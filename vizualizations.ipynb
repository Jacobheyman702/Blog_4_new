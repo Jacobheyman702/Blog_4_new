{
 "cells": [
  {
   "cell_type": "code",
   "execution_count": 1,
   "metadata": {},
   "outputs": [],
   "source": [
    "import seaborn as sns\n",
    "import pandas as pd\n",
    "import numpy as np\n",
    "import plotly.express as px\n",
    "import plotly.graph_objects as go\n",
    "from sklearn.decomposition import PCA\n",
    "import plotly.graph_objects as go\n",
    "from sklearn.svm import SVR\n",
    "from sklearn.linear_model import LinearRegression\n",
    "from sklearn.model_selection import train_test_split"
   ]
  },
  {
   "cell_type": "code",
   "execution_count": 2,
   "metadata": {},
   "outputs": [],
   "source": [
    "df = sns.load_dataset('iris')"
   ]
  },
  {
   "cell_type": "code",
   "execution_count": 3,
   "metadata": {},
   "outputs": [
    {
     "data": {
      "text/html": [
       "<div>\n",
       "<style scoped>\n",
       "    .dataframe tbody tr th:only-of-type {\n",
       "        vertical-align: middle;\n",
       "    }\n",
       "\n",
       "    .dataframe tbody tr th {\n",
       "        vertical-align: top;\n",
       "    }\n",
       "\n",
       "    .dataframe thead th {\n",
       "        text-align: right;\n",
       "    }\n",
       "</style>\n",
       "<table border=\"1\" class=\"dataframe\">\n",
       "  <thead>\n",
       "    <tr style=\"text-align: right;\">\n",
       "      <th></th>\n",
       "      <th>sepal_length</th>\n",
       "      <th>sepal_width</th>\n",
       "      <th>petal_length</th>\n",
       "      <th>petal_width</th>\n",
       "      <th>species</th>\n",
       "    </tr>\n",
       "  </thead>\n",
       "  <tbody>\n",
       "    <tr>\n",
       "      <th>0</th>\n",
       "      <td>5.1</td>\n",
       "      <td>3.5</td>\n",
       "      <td>1.4</td>\n",
       "      <td>0.2</td>\n",
       "      <td>setosa</td>\n",
       "    </tr>\n",
       "    <tr>\n",
       "      <th>1</th>\n",
       "      <td>4.9</td>\n",
       "      <td>3.0</td>\n",
       "      <td>1.4</td>\n",
       "      <td>0.2</td>\n",
       "      <td>setosa</td>\n",
       "    </tr>\n",
       "    <tr>\n",
       "      <th>2</th>\n",
       "      <td>4.7</td>\n",
       "      <td>3.2</td>\n",
       "      <td>1.3</td>\n",
       "      <td>0.2</td>\n",
       "      <td>setosa</td>\n",
       "    </tr>\n",
       "    <tr>\n",
       "      <th>3</th>\n",
       "      <td>4.6</td>\n",
       "      <td>3.1</td>\n",
       "      <td>1.5</td>\n",
       "      <td>0.2</td>\n",
       "      <td>setosa</td>\n",
       "    </tr>\n",
       "    <tr>\n",
       "      <th>4</th>\n",
       "      <td>5.0</td>\n",
       "      <td>3.6</td>\n",
       "      <td>1.4</td>\n",
       "      <td>0.2</td>\n",
       "      <td>setosa</td>\n",
       "    </tr>\n",
       "  </tbody>\n",
       "</table>\n",
       "</div>"
      ],
      "text/plain": [
       "   sepal_length  sepal_width  petal_length  petal_width species\n",
       "0           5.1          3.5           1.4          0.2  setosa\n",
       "1           4.9          3.0           1.4          0.2  setosa\n",
       "2           4.7          3.2           1.3          0.2  setosa\n",
       "3           4.6          3.1           1.5          0.2  setosa\n",
       "4           5.0          3.6           1.4          0.2  setosa"
      ]
     },
     "execution_count": 3,
     "metadata": {},
     "output_type": "execute_result"
    }
   ],
   "source": [
    "df.head()"
   ]
  },
  {
   "cell_type": "markdown",
   "metadata": {},
   "source": [
    "# Marginal Hexplot\n",
    "- display correlation of two features\n",
    "- hexplot shoes density of corrolation"
   ]
  },
  {
   "cell_type": "code",
   "execution_count": 18,
   "metadata": {},
   "outputs": [
    {
     "name": "stderr",
     "output_type": "stream",
     "text": [
      "/Users/heymanjake/opt/anaconda3/lib/python3.8/site-packages/seaborn/axisgrid.py:2036: UserWarning:\n",
      "\n",
      "The marginal plotting function has changed to `histplot`, which does not accept the following argument(s): rug.\n",
      "\n",
      "/Users/heymanjake/opt/anaconda3/lib/python3.8/site-packages/seaborn/axisgrid.py:2036: UserWarning:\n",
      "\n",
      "The marginal plotting function has changed to `histplot`, which does not accept the following argument(s): rug.\n",
      "\n"
     ]
    },
    {
     "data": {
      "text/plain": [
       "<seaborn.axisgrid.JointGrid at 0x7fd99853ac70>"
      ]
     },
     "execution_count": 18,
     "metadata": {},
     "output_type": "execute_result"
    },
    {
     "data": {
      "image/png": "[encoded data removed]",
      "text/plain": [
       "<Figure size 432x432 with 3 Axes>"
      ]
     },
     "metadata": {
      "needs_background": "light"
     },
     "output_type": "display_data"
    },
    {
     "data": {
      "image/png": "[encoded data removed]",
      "text/plain": [
       "<Figure size 432x432 with 3 Axes>"
      ]
     },
     "metadata": {
      "needs_background": "light"
     },
     "output_type": "display_data"
    }
   ],
   "source": [
    "sns.jointplot(x=df[\"petal_length\"], y=df[\"sepal_length\"], color= 'orchid',\n",
    "              kind='hex', marginal_kws=dict(bins=30, rug=True))\n",
    "sns.jointplot(x=df[\"sepal_width\"], y=df[\"sepal_length\"], color= 'orchid',\n",
    "              kind='hex', marginal_kws=dict(bins=30, rug=True))"
   ]
  },
  {
   "cell_type": "markdown",
   "metadata": {},
   "source": [
    "# Jointgrid\n",
    "- a more flexible joint plot that lets you select the bivariate plots"
   ]
  },
  {
   "cell_type": "code",
   "execution_count": 5,
   "metadata": {},
   "outputs": [
    {
     "data": {
      "text/plain": [
       "<seaborn.axisgrid.JointGrid at 0x7fd9b0f28c10>"
      ]
     },
     "execution_count": 5,
     "metadata": {},
     "output_type": "execute_result"
    },
    {
     "data": {
      "image/png": "[encoded data removed]",
      "text/plain": [
       "<Figure size 504x504 with 3 Axes>"
      ]
     },
     "metadata": {
      "needs_background": "light"
     },
     "output_type": "display_data"
    }
   ],
   "source": [
    "g = sns.JointGrid(data=df, x='sepal_width', y='sepal_length',\n",
    "                  hue='species',palette='Set2',\n",
    "                  height=7,marginal_ticks=True, )\n",
    "\n",
    "g.plot(sns.scatterplot, sns.histplot)"
   ]
  },
  {
   "cell_type": "markdown",
   "metadata": {},
   "source": [
    "# Distplot\n",
    "- kernal density displot with target variables\n",
    "- added a rugmap just for fun to see the individual occurances of instances in the data"
   ]
  },
  {
   "cell_type": "code",
   "execution_count": 6,
   "metadata": {},
   "outputs": [
    {
     "data": {
      "text/plain": [
       "<seaborn.axisgrid.FacetGrid at 0x7fd9b1307490>"
      ]
     },
     "execution_count": 6,
     "metadata": {},
     "output_type": "execute_result"
    },
    {
     "data": {
      "image/png": "[encoded data removed]",
      "text/plain": [
       "<Figure size 732.75x648 with 1 Axes>"
      ]
     },
     "metadata": {
      "needs_background": "light"
     },
     "output_type": "display_data"
    }
   ],
   "source": [
    "sns.displot(data=df,\n",
    "          x='sepal_length',hue='species',\n",
    "          y='sepal_width',kind='kde',\n",
    "            height=9,clip=(0,None),\n",
    "           palette='Set2',rug=True)\n"
   ]
  },
  {
   "cell_type": "markdown",
   "metadata": {},
   "source": [
    "# Clustermap\n",
    "- hierarchical clustered heatmap with dendrogram\n",
    "- I think this is more convoluted than a regular corrolative heatmap"
   ]
  },
  {
   "cell_type": "code",
   "execution_count": 7,
   "metadata": {},
   "outputs": [
    {
     "data": {
      "text/plain": [
       "<seaborn.matrix.ClusterGrid at 0x7fd9b19037f0>"
      ]
     },
     "execution_count": 7,
     "metadata": {},
     "output_type": "execute_result"
    },
    {
     "data": {
      "image/png": "[encoded data removed]",
      "text/plain": [
       "<Figure size 720x720 with 4 Axes>"
      ]
     },
     "metadata": {
      "needs_background": "light"
     },
     "output_type": "display_data"
    },
    {
     "data": {
      "image/png": "[encoded data removed]",
      "text/plain": [
       "<Figure size 720x720 with 4 Axes>"
      ]
     },
     "metadata": {
      "needs_background": "light"
     },
     "output_type": "display_data"
    }
   ],
   "source": [
    "df1 = df.drop('species',axis=1)\n",
    "sns.clustermap(df1, metric=\"correlation\", standard_scale=1, cmap='coolwarm')\n",
    "\n",
    "sns.clustermap(df1, metric=\"euclidean\", standard_scale=1, cmap='coolwarm')"
   ]
  },
  {
   "cell_type": "markdown",
   "metadata": {},
   "source": [
    "# Pairplot\n",
    "- plot pairwise relationships\n",
    "- markers changes the shape of the scatter dots\n",
    "- fun way to see distribution of your target for all features"
   ]
  },
  {
   "cell_type": "code",
   "execution_count": 8,
   "metadata": {},
   "outputs": [
    {
     "data": {
      "text/plain": [
       "<seaborn.axisgrid.PairGrid at 0x7fd9b17dc250>"
      ]
     },
     "execution_count": 8,
     "metadata": {},
     "output_type": "execute_result"
    },
    {
     "data": {
      "image/png": "[encoded data removed]",
      "text/plain": [
       "<Figure size 804.75x720 with 20 Axes>"
      ]
     },
     "metadata": {
      "needs_background": "light"
     },
     "output_type": "display_data"
    }
   ],
   "source": [
    "sns.pairplot(df, kind=\"scatter\", hue=\"species\",markers=[\"o\", \"s\", \"D\"] , palette=\"Spectral\")\n",
    "\n"
   ]
  },
  {
   "cell_type": "markdown",
   "metadata": {},
   "source": [
    "# 2d PCA\n",
    "- scatterplot of first two principal companants\n",
    "- target variable is color labled\n"
   ]
  },
  {
   "cell_type": "code",
   "execution_count": 13,
   "metadata": {},
   "outputs": [
    {
     "data": {
      "application/vnd.plotly.v1+json": {
       "config": {
        "plotlyServerURL": "https://plot.ly"
       },
       "data": [
        {
         "hovertemplate": "color=setosa<br>0=%{x}<br>1=%{y}<extra></extra>",
         "legendgroup": "setosa",
         "marker": {
          "color": "#636efa",
          "symbol": "circle"
         },
         "mode": "markers",
         "name": "setosa",
         "orientation": "v",
         "showlegend": true,
         "type": "scatter",
         "x": [
          -2.6842071251039483,
          -2.71539061563413,
          -2.889819539617916,
          -2.746437197308734,
          -2.7285929818313144,
          -2.279897361009598,
          -2.8208906821806297,
          -2.6264819933238184,
          -2.887958565335634,
          -2.6738446867191206,
          -2.5065267893389036,
          -2.613142718271056,
          -2.787433975997097,
          -3.22520044627498,
          -2.643543216941146,
          -2.3838693237993756,
          -2.6225262031258083,
          -2.6483227324791265,
          -2.1990779614307634,
          -2.587346188917738,
          -2.3105317013131335,
          -2.5432349073036953,
          -3.215857694900105,
          -2.3031285376638824,
          -2.3561710866838976,
          -2.5079172268378804,
          -2.4690559975451225,
          -2.5623909468367505,
          -2.6398212683765814,
          -2.632847908030758,
          -2.588462051303391,
          -2.4100773371215958,
          -2.647636673396901,
          -2.5971594770759183,
          -2.6738446867191206,
          -2.866999846932534,
          -2.625228464680421,
          -2.6738446867191206,
          -2.981842664853908,
          -2.590323025585674,
          -2.770138910746324,
          -2.8522110815663906,
          -2.9982964428323506,
          -2.4055141012847012,
          -2.2088329541767058,
          -2.715665190747454,
          -2.537573371013507,
          -2.8403212968270086,
          -2.5426857570770482,
          -2.70391231486365
         ],
         "xaxis": "x",
         "y": [
          0.3266073147643885,
          -0.16955684755602624,
          -0.13734560960502795,
          -0.31112431575199184,
          0.33392456356845474,
          0.7477827132251336,
          -0.082104511024681,
          0.17040534896028983,
          -0.5707980263315918,
          -0.10669170375273856,
          0.651935013672572,
          0.021520631960257896,
          -0.22774018887110628,
          -0.5032799094854259,
          1.1861948994134495,
          1.3447543445598622,
          0.8180896745965952,
          0.3191366677508846,
          0.8792440880917367,
          0.520473638805968,
          0.397867821588892,
          0.44003175465981526,
          0.14161557162558355,
          0.10552267842998224,
          -0.03120958906833842,
          -0.139056339913174,
          0.1378873145904177,
          0.3746845627501061,
          0.3192900659603219,
          -0.19007583063362415,
          -0.19739307943769085,
          0.41808000824761615,
          0.8199826325595069,
          1.1000219280072685,
          -0.10669170375273856,
          0.07719309572358721,
          0.6068000084215864,
          -0.10669170375273856,
          -0.4802500488560767,
          0.23605933728887282,
          0.2710594197651671,
          -0.9328653674695444,
          -0.3343075745907773,
          0.19591725769606078,
          0.4426960304210028,
          -0.24268148289811298,
          0.5103675454766059,
          -0.2205763382764767,
          0.5862810253439884,
          0.11501085217050566
         ],
         "yaxis": "y"
        },
        {
         "hovertemplate": "color=versicolor<br>0=%{x}<br>1=%{y}<extra></extra>",
         "legendgroup": "versicolor",
         "marker": {
          "color": "#EF553B",
          "symbol": "circle"
         },
         "mode": "markers",
         "name": "versicolor",
         "orientation": "v",
         "showlegend": true,
         "type": "scatter",
         "x": [
          1.284794587845071,
          0.9324107529829175,
          1.4640613227790753,
          0.1809672063476993,
          1.0871344872070012,
          0.6404367495231457,
          1.095223709938478,
          -0.7514671406482263,
          1.0432977807062809,
          -0.010190070727852822,
          -0.5110861958950897,
          0.5110980606834775,
          0.2623357561531805,
          0.984044545169431,
          -0.1748640019656959,
          0.9275729420326997,
          0.6595927890562004,
          0.23454058625983584,
          0.9423617073988423,
          0.04324640032870497,
          1.1162407237538159,
          0.3567865678304614,
          1.2964688502855342,
          0.9205026489090096,
          0.7140082136428333,
          0.8996408632837759,
          1.33104141885472,
          1.557396272070702,
          0.812455548998002,
          -0.30733475566340396,
          -0.07034288894927106,
          -0.19188449210314515,
          0.13499495045137355,
          1.378736982775583,
          0.5872748535799112,
          0.8072054966767166,
          1.2204289662446792,
          0.81286779036907,
          0.2451951616903462,
          0.16451342836925617,
          0.4630309888714247,
          0.8901604456511564,
          0.2288790499696479,
          -0.7070812839208597,
          0.35553303918706386,
          0.33112694733272313,
          0.375238228946766,
          0.6416902781665432,
          -0.9084633331234948,
          0.2978079074069342
         ],
         "xaxis": "x",
         "y": [
          0.6854391861329202,
          0.3191980898336488,
          0.5041898329724531,
          -0.8256039435761133,
          0.0753903892887675,
          -0.41732348297002575,
          0.28389121093848035,
          -1.0011075129743943,
          0.22895690877700686,
          -0.7205748667019015,
          -1.2624919538621404,
          -0.1022841050459702,
          -0.5478932980253367,
          -0.12436042022227789,
          -0.25181557108017066,
          0.46823620504311714,
          -0.3519762910603165,
          -0.33192182936212034,
          -0.541822258150014,
          -0.5814894466123587,
          -0.08421401387837349,
          -0.06682382794136613,
          -0.3275615197949442,
          -0.18239036332792097,
          0.15037915314843728,
          0.32961097958188407,
          0.24466952060228936,
          0.26739258481276484,
          -0.16233157487863326,
          -0.36508661276616033,
          -0.7025379317307259,
          -0.6774905443743572,
          -0.3117096427033962,
          -0.4212051382146283,
          -0.4832842677174825,
          0.19505396377111148,
          0.4080353370010176,
          -0.37067899831890966,
          -0.266728035661848,
          -0.6796614693108137,
          -0.6695265465361225,
          -0.03381244274676266,
          -0.4022576201789113,
          -1.0084247617784612,
          -0.5032184874026623,
          -0.21118014066262672,
          -0.2916220248087798,
          0.019071176491270835,
          -0.7515687251694855,
          -0.34701652159856394
         ],
         "yaxis": "y"
        },
        {
         "hovertemplate": "color=virginica<br>0=%{x}<br>1=%{y}<extra></extra>",
         "legendgroup": "virginica",
         "marker": {
          "color": "#00cc96",
          "symbol": "circle"
         },
         "mode": "markers",
         "name": "virginica",
         "orientation": "v",
         "showlegend": true,
         "type": "scatter",
         "x": [
          2.5317269804395583,
          1.4140722251737576,
          2.6164846082840434,
          1.970814945906482,
          2.349757983950943,
          3.3968799206781375,
          0.5193832450849368,
          2.932005096991301,
          2.319672793874053,
          2.9181342336442513,
          1.6619349470194866,
          1.8023404526607334,
          2.165378862953397,
          1.3445942175098249,
          1.585267299308644,
          1.9047435782139124,
          1.949248781864498,
          3.488765379656386,
          3.79468686120997,
          1.2983298245678165,
          2.4281672590208476,
          1.1980973722749628,
          3.4992654842989572,
          1.3876682501815556,
          2.2758536493056933,
          2.6141938306983334,
          1.2576251829251366,
          1.2906696477376016,
          2.1228539805083133,
          2.3875644023690277,
          2.840960925285384,
          3.232342898295874,
          2.158738373133135,
          1.4431026043759747,
          1.7796401068985703,
          3.076521621020662,
          2.144986856709304,
          1.9048629251371318,
          1.1688534694704038,
          2.107653731173268,
          2.314303394629548,
          1.9224508848357522,
          1.4140722251737576,
          2.563322712340809,
          2.41939121980498,
          1.9440170488777369,
          1.5256636313138727,
          1.764045935526983,
          1.901629075288233,
          1.3896661333194171
         ],
         "xaxis": "x",
         "y": [
          -0.011842236640300523,
          -0.5749250559123048,
          0.3419352869872948,
          -0.18112569470491371,
          -0.04188254965484184,
          0.5471680462301528,
          -1.1913516890506533,
          0.3523770061808598,
          -0.2455481706069101,
          0.7803806293720322,
          0.2420384010375224,
          -0.21615460662653627,
          0.21528028337300723,
          -0.7764154251768252,
          -0.539307053847172,
          0.11881899098269857,
          0.040730259427767854,
          1.1715445442635644,
          0.25326557097253466,
          -0.7610139365215078,
          0.3767819712541526,
          -0.6055789617645945,
          0.4567734669640746,
          -0.20403098657015473,
          0.3333865257566422,
          0.5583669502788224,
          -0.17913699742322278,
          -0.11642525182937251,
          -0.2108548845494899,
          0.46251925072626066,
          0.37274259104902147,
          1.3705240359763338,
          -0.21832553156299322,
          -0.14380128908272616,
          -0.5014647947060157,
          0.6857644422460568,
          0.13890660887731443,
          0.048047508231834596,
          -0.16450249981508994,
          0.3714822491771058,
          0.1826088507936986,
          0.4092711761786957,
          -0.5749250559123048,
          0.27597450223983816,
          0.30350393770262885,
          0.18741522204601396,
          -0.3750208481918228,
          0.07851918642935747,
          0.11587674824796555,
          -0.28288670917226916
         ],
         "yaxis": "y"
        }
       ],
       "layout": {
        "legend": {
         "title": {
          "text": "color"
         },
         "tracegroupgap": 0
        },
        "margin": {
         "t": 60
        },
        "template": {
         "data": {
          "bar": [
           {
            "error_x": {
             "color": "#2a3f5f"
            },
            "error_y": {
             "color": "#2a3f5f"
            },
            "marker": {
             "line": {
              "color": "#E5ECF6",
              "width": 0.5
             }
            },
            "type": "bar"
           }
          ],
          "barpolar": [
           {
            "marker": {
             "line": {
              "color": "#E5ECF6",
              "width": 0.5
             }
            },
            "type": "barpolar"
           }
          ],
          "carpet": [
           {
            "aaxis": {
             "endlinecolor": "#2a3f5f",
             "gridcolor": "white",
             "linecolor": "white",
             "minorgridcolor": "white",
             "startlinecolor": "#2a3f5f"
            },
            "baxis": {
             "endlinecolor": "#2a3f5f",
             "gridcolor": "white",
             "linecolor": "white",
             "minorgridcolor": "white",
             "startlinecolor": "#2a3f5f"
            },
            "type": "carpet"
           }
          ],
          "choropleth": [
           {
            "colorbar": {
             "outlinewidth": 0,
             "ticks": ""
            },
            "type": "choropleth"
           }
          ],
          "contour": [
           {
            "colorbar": {
             "outlinewidth": 0,
             "ticks": ""
            },
            "colorscale": [
             [
              0,
              "#0d0887"
             ],
             [
              0.1111111111111111,
              "#46039f"
             ],
             [
              0.2222222222222222,
              "#7201a8"
             ],
             [
              0.3333333333333333,
              "#9c179e"
             ],
             [
              0.4444444444444444,
              "#bd3786"
             ],
             [
              0.5555555555555556,
              "#d8576b"
             ],
             [
              0.6666666666666666,
              "#ed7953"
             ],
             [
              0.7777777777777778,
              "#fb9f3a"
             ],
             [
              0.8888888888888888,
              "#fdca26"
             ],
             [
              1,
              "#f0f921"
             ]
            ],
            "type": "contour"
           }
          ],
          "contourcarpet": [
           {
            "colorbar": {
             "outlinewidth": 0,
             "ticks": ""
            },
            "type": "contourcarpet"
           }
          ],
          "heatmap": [
           {
            "colorbar": {
             "outlinewidth": 0,
             "ticks": ""
            },
            "colorscale": [
             [
              0,
              "#0d0887"
             ],
             [
              0.1111111111111111,
              "#46039f"
             ],
             [
              0.2222222222222222,
              "#7201a8"
             ],
             [
              0.3333333333333333,
              "#9c179e"
             ],
             [
              0.4444444444444444,
              "#bd3786"
             ],
             [
              0.5555555555555556,
              "#d8576b"
             ],
             [
              0.6666666666666666,
              "#ed7953"
             ],
             [
              0.7777777777777778,
              "#fb9f3a"
             ],
             [
              0.8888888888888888,
              "#fdca26"
             ],
             [
              1,
              "#f0f921"
             ]
            ],
            "type": "heatmap"
           }
          ],
          "heatmapgl": [
           {
            "colorbar": {
             "outlinewidth": 0,
             "ticks": ""
            },
            "colorscale": [
             [
              0,
              "#0d0887"
             ],
             [
              0.1111111111111111,
              "#46039f"
             ],
             [
              0.2222222222222222,
              "#7201a8"
             ],
             [
              0.3333333333333333,
              "#9c179e"
             ],
             [
              0.4444444444444444,
              "#bd3786"
             ],
             [
              0.5555555555555556,
              "#d8576b"
             ],
             [
              0.6666666666666666,
              "#ed7953"
             ],
             [
              0.7777777777777778,
              "#fb9f3a"
             ],
             [
              0.8888888888888888,
              "#fdca26"
             ],
             [
              1,
              "#f0f921"
             ]
            ],
            "type": "heatmapgl"
           }
          ],
          "histogram": [
           {
            "marker": {
             "colorbar": {
              "outlinewidth": 0,
              "ticks": ""
             }
            },
            "type": "histogram"
           }
          ],
          "histogram2d": [
           {
            "colorbar": {
             "outlinewidth": 0,
             "ticks": ""
            },
            "colorscale": [
             [
              0,
              "#0d0887"
             ],
             [
              0.1111111111111111,
              "#46039f"
             ],
             [
              0.2222222222222222,
              "#7201a8"
             ],
             [
              0.3333333333333333,
              "#9c179e"
             ],
             [
              0.4444444444444444,
              "#bd3786"
             ],
             [
              0.5555555555555556,
              "#d8576b"
             ],
             [
              0.6666666666666666,
              "#ed7953"
             ],
             [
              0.7777777777777778,
              "#fb9f3a"
             ],
             [
              0.8888888888888888,
              "#fdca26"
             ],
             [
              1,
              "#f0f921"
             ]
            ],
            "type": "histogram2d"
           }
          ],
          "histogram2dcontour": [
           {
            "colorbar": {
             "outlinewidth": 0,
             "ticks": ""
            },
            "colorscale": [
             [
              0,
              "#0d0887"
             ],
             [
              0.1111111111111111,
              "#46039f"
             ],
             [
              0.2222222222222222,
              "#7201a8"
             ],
             [
              0.3333333333333333,
              "#9c179e"
             ],
             [
              0.4444444444444444,
              "#bd3786"
             ],
             [
              0.5555555555555556,
              "#d8576b"
             ],
             [
              0.6666666666666666,
              "#ed7953"
             ],
             [
              0.7777777777777778,
              "#fb9f3a"
             ],
             [
              0.8888888888888888,
              "#fdca26"
             ],
             [
              1,
              "#f0f921"
             ]
            ],
            "type": "histogram2dcontour"
           }
          ],
          "mesh3d": [
           {
            "colorbar": {
             "outlinewidth": 0,
             "ticks": ""
            },
            "type": "mesh3d"
           }
          ],
          "parcoords": [
           {
            "line": {
             "colorbar": {
              "outlinewidth": 0,
              "ticks": ""
             }
            },
            "type": "parcoords"
           }
          ],
          "pie": [
           {
            "automargin": true,
            "type": "pie"
           }
          ],
          "scatter": [
           {
            "marker": {
             "colorbar": {
              "outlinewidth": 0,
              "ticks": ""
             }
            },
            "type": "scatter"
           }
          ],
          "scatter3d": [
           {
            "line": {
             "colorbar": {
              "outlinewidth": 0,
              "ticks": ""
             }
            },
            "marker": {
             "colorbar": {
              "outlinewidth": 0,
              "ticks": ""
             }
            },
            "type": "scatter3d"
           }
          ],
          "scattercarpet": [
           {
            "marker": {
             "colorbar": {
              "outlinewidth": 0,
              "ticks": ""
             }
            },
            "type": "scattercarpet"
           }
          ],
          "scattergeo": [
           {
            "marker": {
             "colorbar": {
              "outlinewidth": 0,
              "ticks": ""
             }
            },
            "type": "scattergeo"
           }
          ],
          "scattergl": [
           {
            "marker": {
             "colorbar": {
              "outlinewidth": 0,
              "ticks": ""
             }
            },
            "type": "scattergl"
           }
          ],
          "scattermapbox": [
           {
            "marker": {
             "colorbar": {
              "outlinewidth": 0,
              "ticks": ""
             }
            },
            "type": "scattermapbox"
           }
          ],
          "scatterpolar": [
           {
            "marker": {
             "colorbar": {
              "outlinewidth": 0,
              "ticks": ""
             }
            },
            "type": "scatterpolar"
           }
          ],
          "scatterpolargl": [
           {
            "marker": {
             "colorbar": {
              "outlinewidth": 0,
              "ticks": ""
             }
            },
            "type": "scatterpolargl"
           }
          ],
          "scatterternary": [
           {
            "marker": {
             "colorbar": {
              "outlinewidth": 0,
              "ticks": ""
             }
            },
            "type": "scatterternary"
           }
          ],
          "surface": [
           {
            "colorbar": {
             "outlinewidth": 0,
             "ticks": ""
            },
            "colorscale": [
             [
              0,
              "#0d0887"
             ],
             [
              0.1111111111111111,
              "#46039f"
             ],
             [
              0.2222222222222222,
              "#7201a8"
             ],
             [
              0.3333333333333333,
              "#9c179e"
             ],
             [
              0.4444444444444444,
              "#bd3786"
             ],
             [
              0.5555555555555556,
              "#d8576b"
             ],
             [
              0.6666666666666666,
              "#ed7953"
             ],
             [
              0.7777777777777778,
              "#fb9f3a"
             ],
             [
              0.8888888888888888,
              "#fdca26"
             ],
             [
              1,
              "#f0f921"
             ]
            ],
            "type": "surface"
           }
          ],
          "table": [
           {
            "cells": {
             "fill": {
              "color": "#EBF0F8"
             },
             "line": {
              "color": "white"
             }
            },
            "header": {
             "fill": {
              "color": "#C8D4E3"
             },
             "line": {
              "color": "white"
             }
            },
            "type": "table"
           }
          ]
         },
         "layout": {
          "annotationdefaults": {
           "arrowcolor": "#2a3f5f",
           "arrowhead": 0,
           "arrowwidth": 1
          },
          "coloraxis": {
           "colorbar": {
            "outlinewidth": 0,
            "ticks": ""
           }
          },
          "colorscale": {
           "diverging": [
            [
             0,
             "#8e0152"
            ],
            [
             0.1,
             "#c51b7d"
            ],
            [
             0.2,
             "#de77ae"
            ],
            [
             0.3,
             "#f1b6da"
            ],
            [
             0.4,
             "#fde0ef"
            ],
            [
             0.5,
             "#f7f7f7"
            ],
            [
             0.6,
             "#e6f5d0"
            ],
            [
             0.7,
             "#b8e186"
            ],
            [
             0.8,
             "#7fbc41"
            ],
            [
             0.9,
             "#4d9221"
            ],
            [
             1,
             "#276419"
            ]
           ],
           "sequential": [
            [
             0,
             "#0d0887"
            ],
            [
             0.1111111111111111,
             "#46039f"
            ],
            [
             0.2222222222222222,
             "#7201a8"
            ],
            [
             0.3333333333333333,
             "#9c179e"
            ],
            [
             0.4444444444444444,
             "#bd3786"
            ],
            [
             0.5555555555555556,
             "#d8576b"
            ],
            [
             0.6666666666666666,
             "#ed7953"
            ],
            [
             0.7777777777777778,
             "#fb9f3a"
            ],
            [
             0.8888888888888888,
             "#fdca26"
            ],
            [
             1,
             "#f0f921"
            ]
           ],
           "sequentialminus": [
            [
             0,
             "#0d0887"
            ],
            [
             0.1111111111111111,
             "#46039f"
            ],
            [
             0.2222222222222222,
             "#7201a8"
            ],
            [
             0.3333333333333333,
             "#9c179e"
            ],
            [
             0.4444444444444444,
             "#bd3786"
            ],
            [
             0.5555555555555556,
             "#d8576b"
            ],
            [
             0.6666666666666666,
             "#ed7953"
            ],
            [
             0.7777777777777778,
             "#fb9f3a"
            ],
            [
             0.8888888888888888,
             "#fdca26"
            ],
            [
             1,
             "#f0f921"
            ]
           ]
          },
          "colorway": [
           "#636efa",
           "#EF553B",
           "#00cc96",
           "#ab63fa",
           "#FFA15A",
           "#19d3f3",
           "#FF6692",
           "#B6E880",
           "#FF97FF",
           "#FECB52"
          ],
          "font": {
           "color": "#2a3f5f"
          },
          "geo": {
           "bgcolor": "white",
           "lakecolor": "white",
           "landcolor": "#E5ECF6",
           "showlakes": true,
           "showland": true,
           "subunitcolor": "white"
          },
          "hoverlabel": {
           "align": "left"
          },
          "hovermode": "closest",
          "mapbox": {
           "style": "light"
          },
          "paper_bgcolor": "white",
          "plot_bgcolor": "#E5ECF6",
          "polar": {
           "angularaxis": {
            "gridcolor": "white",
            "linecolor": "white",
            "ticks": ""
           },
           "bgcolor": "#E5ECF6",
           "radialaxis": {
            "gridcolor": "white",
            "linecolor": "white",
            "ticks": ""
           }
          },
          "scene": {
           "xaxis": {
            "backgroundcolor": "#E5ECF6",
            "gridcolor": "white",
            "gridwidth": 2,
            "linecolor": "white",
            "showbackground": true,
            "ticks": "",
            "zerolinecolor": "white"
           },
           "yaxis": {
            "backgroundcolor": "#E5ECF6",
            "gridcolor": "white",
            "gridwidth": 2,
            "linecolor": "white",
            "showbackground": true,
            "ticks": "",
            "zerolinecolor": "white"
           },
           "zaxis": {
            "backgroundcolor": "#E5ECF6",
            "gridcolor": "white",
            "gridwidth": 2,
            "linecolor": "white",
            "showbackground": true,
            "ticks": "",
            "zerolinecolor": "white"
           }
          },
          "shapedefaults": {
           "line": {
            "color": "#2a3f5f"
           }
          },
          "ternary": {
           "aaxis": {
            "gridcolor": "white",
            "linecolor": "white",
            "ticks": ""
           },
           "baxis": {
            "gridcolor": "white",
            "linecolor": "white",
            "ticks": ""
           },
           "bgcolor": "#E5ECF6",
           "caxis": {
            "gridcolor": "white",
            "linecolor": "white",
            "ticks": ""
           }
          },
          "title": {
           "x": 0.05
          },
          "xaxis": {
           "automargin": true,
           "gridcolor": "white",
           "linecolor": "white",
           "ticks": "",
           "title": {
            "standoff": 15
           },
           "zerolinecolor": "white",
           "zerolinewidth": 2
          },
          "yaxis": {
           "automargin": true,
           "gridcolor": "white",
           "linecolor": "white",
           "ticks": "",
           "title": {
            "standoff": 15
           },
           "zerolinecolor": "white",
           "zerolinewidth": 2
          }
         }
        },
        "xaxis": {
         "anchor": "y",
         "domain": [
          0,
          1
         ],
         "title": {
          "text": "0"
         }
        },
        "yaxis": {
         "anchor": "x",
         "domain": [
          0,
          1
         ],
         "title": {
          "text": "1"
         }
        }
       }
      },
      "text/html": [
       "<div>                            <div id=\"2f0dffd1-d700-4c67-91b1-120f7297b59b\" class=\"plotly-graph-div\" style=\"height:525px; width:100%;\"></div>            <script type=\"text/javascript\">                require([\"plotly\"], function(Plotly) {                    window.PLOTLYENV=window.PLOTLYENV || {};                                    if (document.getElementById(\"2f0dffd1-d700-4c67-91b1-120f7297b59b\")) {                    Plotly.newPlot(                        \"2f0dffd1-d700-4c67-91b1-120f7297b59b\",                        [{\"hovertemplate\": \"color=setosa<br>0=%{x}<br>1=%{y}<extra></extra>\", \"legendgroup\": \"setosa\", \"marker\": {\"color\": \"#636efa\", \"symbol\": \"circle\"}, \"mode\": \"markers\", \"name\": \"setosa\", \"orientation\": \"v\", \"showlegend\": true, \"type\": \"scatter\", \"x\": [-2.6842071251039483, -2.71539061563413, -2.889819539617916, -2.746437197308734, -2.7285929818313144, -2.279897361009598, -2.8208906821806297, -2.6264819933238184, -2.887958565335634, -2.6738446867191206, -2.5065267893389036, -2.613142718271056, -2.787433975997097, -3.22520044627498, -2.643543216941146, -2.3838693237993756, -2.6225262031258083, -2.6483227324791265, -2.1990779614307634, -2.587346188917738, -2.3105317013131335, -2.5432349073036953, -3.215857694900105, -2.3031285376638824, -2.3561710866838976, -2.5079172268378804, -2.4690559975451225, -2.5623909468367505, -2.6398212683765814, -2.632847908030758, -2.588462051303391, -2.4100773371215958, -2.647636673396901, -2.5971594770759183, -2.6738446867191206, -2.866999846932534, -2.625228464680421, -2.6738446867191206, -2.981842664853908, -2.590323025585674, -2.770138910746324, -2.8522110815663906, -2.9982964428323506, -2.4055141012847012, -2.2088329541767058, -2.715665190747454, -2.537573371013507, -2.8403212968270086, -2.5426857570770482, -2.70391231486365], \"xaxis\": \"x\", \"y\": [0.3266073147643885, -0.16955684755602624, -0.13734560960502795, -0.31112431575199184, 0.33392456356845474, 0.7477827132251336, -0.082104511024681, 0.17040534896028983, -0.5707980263315918, -0.10669170375273856, 0.651935013672572, 0.021520631960257896, -0.22774018887110628, -0.5032799094854259, 1.1861948994134495, 1.3447543445598622, 0.8180896745965952, 0.3191366677508846, 0.8792440880917367, 0.520473638805968, 0.397867821588892, 0.44003175465981526, 0.14161557162558355, 0.10552267842998224, -0.03120958906833842, -0.139056339913174, 0.1378873145904177, 0.3746845627501061, 0.3192900659603219, -0.19007583063362415, -0.19739307943769085, 0.41808000824761615, 0.8199826325595069, 1.1000219280072685, -0.10669170375273856, 0.07719309572358721, 0.6068000084215864, -0.10669170375273856, -0.4802500488560767, 0.23605933728887282, 0.2710594197651671, -0.9328653674695444, -0.3343075745907773, 0.19591725769606078, 0.4426960304210028, -0.24268148289811298, 0.5103675454766059, -0.2205763382764767, 0.5862810253439884, 0.11501085217050566], \"yaxis\": \"y\"}, {\"hovertemplate\": \"color=versicolor<br>0=%{x}<br>1=%{y}<extra></extra>\", \"legendgroup\": \"versicolor\", \"marker\": {\"color\": \"#EF553B\", \"symbol\": \"circle\"}, \"mode\": \"markers\", \"name\": \"versicolor\", \"orientation\": \"v\", \"showlegend\": true, \"type\": \"scatter\", \"x\": [1.284794587845071, 0.9324107529829175, 1.4640613227790753, 0.1809672063476993, 1.0871344872070012, 0.6404367495231457, 1.095223709938478, -0.7514671406482263, 1.0432977807062809, -0.010190070727852822, -0.5110861958950897, 0.5110980606834775, 0.2623357561531805, 0.984044545169431, -0.1748640019656959, 0.9275729420326997, 0.6595927890562004, 0.23454058625983584, 0.9423617073988423, 0.04324640032870497, 1.1162407237538159, 0.3567865678304614, 1.2964688502855342, 0.9205026489090096, 0.7140082136428333, 0.8996408632837759, 1.33104141885472, 1.557396272070702, 0.812455548998002, -0.30733475566340396, -0.07034288894927106, -0.19188449210314515, 0.13499495045137355, 1.378736982775583, 0.5872748535799112, 0.8072054966767166, 1.2204289662446792, 0.81286779036907, 0.2451951616903462, 0.16451342836925617, 0.4630309888714247, 0.8901604456511564, 0.2288790499696479, -0.7070812839208597, 0.35553303918706386, 0.33112694733272313, 0.375238228946766, 0.6416902781665432, -0.9084633331234948, 0.2978079074069342], \"xaxis\": \"x\", \"y\": [0.6854391861329202, 0.3191980898336488, 0.5041898329724531, -0.8256039435761133, 0.0753903892887675, -0.41732348297002575, 0.28389121093848035, -1.0011075129743943, 0.22895690877700686, -0.7205748667019015, -1.2624919538621404, -0.1022841050459702, -0.5478932980253367, -0.12436042022227789, -0.25181557108017066, 0.46823620504311714, -0.3519762910603165, -0.33192182936212034, -0.541822258150014, -0.5814894466123587, -0.08421401387837349, -0.06682382794136613, -0.3275615197949442, -0.18239036332792097, 0.15037915314843728, 0.32961097958188407, 0.24466952060228936, 0.26739258481276484, -0.16233157487863326, -0.36508661276616033, -0.7025379317307259, -0.6774905443743572, -0.3117096427033962, -0.4212051382146283, -0.4832842677174825, 0.19505396377111148, 0.4080353370010176, -0.37067899831890966, -0.266728035661848, -0.6796614693108137, -0.6695265465361225, -0.03381244274676266, -0.4022576201789113, -1.0084247617784612, -0.5032184874026623, -0.21118014066262672, -0.2916220248087798, 0.019071176491270835, -0.7515687251694855, -0.34701652159856394], \"yaxis\": \"y\"}, {\"hovertemplate\": \"color=virginica<br>0=%{x}<br>1=%{y}<extra></extra>\", \"legendgroup\": \"virginica\", \"marker\": {\"color\": \"#00cc96\", \"symbol\": \"circle\"}, \"mode\": \"markers\", \"name\": \"virginica\", \"orientation\": \"v\", \"showlegend\": true, \"type\": \"scatter\", \"x\": [2.5317269804395583, 1.4140722251737576, 2.6164846082840434, 1.970814945906482, 2.349757983950943, 3.3968799206781375, 0.5193832450849368, 2.932005096991301, 2.319672793874053, 2.9181342336442513, 1.6619349470194866, 1.8023404526607334, 2.165378862953397, 1.3445942175098249, 1.585267299308644, 1.9047435782139124, 1.949248781864498, 3.488765379656386, 3.79468686120997, 1.2983298245678165, 2.4281672590208476, 1.1980973722749628, 3.4992654842989572, 1.3876682501815556, 2.2758536493056933, 2.6141938306983334, 1.2576251829251366, 1.2906696477376016, 2.1228539805083133, 2.3875644023690277, 2.840960925285384, 3.232342898295874, 2.158738373133135, 1.4431026043759747, 1.7796401068985703, 3.076521621020662, 2.144986856709304, 1.9048629251371318, 1.1688534694704038, 2.107653731173268, 2.314303394629548, 1.9224508848357522, 1.4140722251737576, 2.563322712340809, 2.41939121980498, 1.9440170488777369, 1.5256636313138727, 1.764045935526983, 1.901629075288233, 1.3896661333194171], \"xaxis\": \"x\", \"y\": [-0.011842236640300523, -0.5749250559123048, 0.3419352869872948, -0.18112569470491371, -0.04188254965484184, 0.5471680462301528, -1.1913516890506533, 0.3523770061808598, -0.2455481706069101, 0.7803806293720322, 0.2420384010375224, -0.21615460662653627, 0.21528028337300723, -0.7764154251768252, -0.539307053847172, 0.11881899098269857, 0.040730259427767854, 1.1715445442635644, 0.25326557097253466, -0.7610139365215078, 0.3767819712541526, -0.6055789617645945, 0.4567734669640746, -0.20403098657015473, 0.3333865257566422, 0.5583669502788224, -0.17913699742322278, -0.11642525182937251, -0.2108548845494899, 0.46251925072626066, 0.37274259104902147, 1.3705240359763338, -0.21832553156299322, -0.14380128908272616, -0.5014647947060157, 0.6857644422460568, 0.13890660887731443, 0.048047508231834596, -0.16450249981508994, 0.3714822491771058, 0.1826088507936986, 0.4092711761786957, -0.5749250559123048, 0.27597450223983816, 0.30350393770262885, 0.18741522204601396, -0.3750208481918228, 0.07851918642935747, 0.11587674824796555, -0.28288670917226916], \"yaxis\": \"y\"}],                        {\"legend\": {\"title\": {\"text\": \"color\"}, \"tracegroupgap\": 0}, \"margin\": {\"t\": 60}, \"template\": {\"data\": {\"bar\": [{\"error_x\": {\"color\": \"#2a3f5f\"}, \"error_y\": {\"color\": \"#2a3f5f\"}, \"marker\": {\"line\": {\"color\": \"#E5ECF6\", \"width\": 0.5}}, \"type\": \"bar\"}], \"barpolar\": [{\"marker\": {\"line\": {\"color\": \"#E5ECF6\", \"width\": 0.5}}, \"type\": \"barpolar\"}], \"carpet\": [{\"aaxis\": {\"endlinecolor\": \"#2a3f5f\", \"gridcolor\": \"white\", \"linecolor\": \"white\", \"minorgridcolor\": \"white\", \"startlinecolor\": \"#2a3f5f\"}, \"baxis\": {\"endlinecolor\": \"#2a3f5f\", \"gridcolor\": \"white\", \"linecolor\": \"white\", \"minorgridcolor\": \"white\", \"startlinecolor\": \"#2a3f5f\"}, \"type\": \"carpet\"}], \"choropleth\": [{\"colorbar\": {\"outlinewidth\": 0, \"ticks\": \"\"}, \"type\": \"choropleth\"}], \"contour\": [{\"colorbar\": {\"outlinewidth\": 0, \"ticks\": \"\"}, \"colorscale\": [[0.0, \"#0d0887\"], [0.1111111111111111, \"#46039f\"], [0.2222222222222222, \"#7201a8\"], [0.3333333333333333, \"#9c179e\"], [0.4444444444444444, \"#bd3786\"], [0.5555555555555556, \"#d8576b\"], [0.6666666666666666, \"#ed7953\"], [0.7777777777777778, \"#fb9f3a\"], [0.8888888888888888, \"#fdca26\"], [1.0, \"#f0f921\"]], \"type\": \"contour\"}], \"contourcarpet\": [{\"colorbar\": {\"outlinewidth\": 0, \"ticks\": \"\"}, \"type\": \"contourcarpet\"}], \"heatmap\": [{\"colorbar\": {\"outlinewidth\": 0, \"ticks\": \"\"}, \"colorscale\": [[0.0, \"#0d0887\"], [0.1111111111111111, \"#46039f\"], [0.2222222222222222, \"#7201a8\"], [0.3333333333333333, \"#9c179e\"], [0.4444444444444444, \"#bd3786\"], [0.5555555555555556, \"#d8576b\"], [0.6666666666666666, \"#ed7953\"], [0.7777777777777778, \"#fb9f3a\"], [0.8888888888888888, \"#fdca26\"], [1.0, \"#f0f921\"]], \"type\": \"heatmap\"}], \"heatmapgl\": [{\"colorbar\": {\"outlinewidth\": 0, \"ticks\": \"\"}, \"colorscale\": [[0.0, \"#0d0887\"], [0.1111111111111111, \"#46039f\"], [0.2222222222222222, \"#7201a8\"], [0.3333333333333333, \"#9c179e\"], [0.4444444444444444, \"#bd3786\"], [0.5555555555555556, \"#d8576b\"], [0.6666666666666666, \"#ed7953\"], [0.7777777777777778, \"#fb9f3a\"], [0.8888888888888888, \"#fdca26\"], [1.0, \"#f0f921\"]], \"type\": \"heatmapgl\"}], \"histogram\": [{\"marker\": {\"colorbar\": {\"outlinewidth\": 0, \"ticks\": \"\"}}, \"type\": \"histogram\"}], \"histogram2d\": [{\"colorbar\": {\"outlinewidth\": 0, \"ticks\": \"\"}, \"colorscale\": [[0.0, \"#0d0887\"], [0.1111111111111111, \"#46039f\"], [0.2222222222222222, \"#7201a8\"], [0.3333333333333333, \"#9c179e\"], [0.4444444444444444, \"#bd3786\"], [0.5555555555555556, \"#d8576b\"], [0.6666666666666666, \"#ed7953\"], [0.7777777777777778, \"#fb9f3a\"], [0.8888888888888888, \"#fdca26\"], [1.0, \"#f0f921\"]], \"type\": \"histogram2d\"}], \"histogram2dcontour\": [{\"colorbar\": {\"outlinewidth\": 0, \"ticks\": \"\"}, \"colorscale\": [[0.0, \"#0d0887\"], [0.1111111111111111, \"#46039f\"], [0.2222222222222222, \"#7201a8\"], [0.3333333333333333, \"#9c179e\"], [0.4444444444444444, \"#bd3786\"], [0.5555555555555556, \"#d8576b\"], [0.6666666666666666, \"#ed7953\"], [0.7777777777777778, \"#fb9f3a\"], [0.8888888888888888, \"#fdca26\"], [1.0, \"#f0f921\"]], \"type\": \"histogram2dcontour\"}], \"mesh3d\": [{\"colorbar\": {\"outlinewidth\": 0, \"ticks\": \"\"}, \"type\": \"mesh3d\"}], \"parcoords\": [{\"line\": {\"colorbar\": {\"outlinewidth\": 0, \"ticks\": \"\"}}, \"type\": \"parcoords\"}], \"pie\": [{\"automargin\": true, \"type\": \"pie\"}], \"scatter\": [{\"marker\": {\"colorbar\": {\"outlinewidth\": 0, \"ticks\": \"\"}}, \"type\": \"scatter\"}], \"scatter3d\": [{\"line\": {\"colorbar\": {\"outlinewidth\": 0, \"ticks\": \"\"}}, \"marker\": {\"colorbar\": {\"outlinewidth\": 0, \"ticks\": \"\"}}, \"type\": \"scatter3d\"}], \"scattercarpet\": [{\"marker\": {\"colorbar\": {\"outlinewidth\": 0, \"ticks\": \"\"}}, \"type\": \"scattercarpet\"}], \"scattergeo\": [{\"marker\": {\"colorbar\": {\"outlinewidth\": 0, \"ticks\": \"\"}}, \"type\": \"scattergeo\"}], \"scattergl\": [{\"marker\": {\"colorbar\": {\"outlinewidth\": 0, \"ticks\": \"\"}}, \"type\": \"scattergl\"}], \"scattermapbox\": [{\"marker\": {\"colorbar\": {\"outlinewidth\": 0, \"ticks\": \"\"}}, \"type\": \"scattermapbox\"}], \"scatterpolar\": [{\"marker\": {\"colorbar\": {\"outlinewidth\": 0, \"ticks\": \"\"}}, \"type\": \"scatterpolar\"}], \"scatterpolargl\": [{\"marker\": {\"colorbar\": {\"outlinewidth\": 0, \"ticks\": \"\"}}, \"type\": \"scatterpolargl\"}], \"scatterternary\": [{\"marker\": {\"colorbar\": {\"outlinewidth\": 0, \"ticks\": \"\"}}, \"type\": \"scatterternary\"}], \"surface\": [{\"colorbar\": {\"outlinewidth\": 0, \"ticks\": \"\"}, \"colorscale\": [[0.0, \"#0d0887\"], [0.1111111111111111, \"#46039f\"], [0.2222222222222222, \"#7201a8\"], [0.3333333333333333, \"#9c179e\"], [0.4444444444444444, \"#bd3786\"], [0.5555555555555556, \"#d8576b\"], [0.6666666666666666, \"#ed7953\"], [0.7777777777777778, \"#fb9f3a\"], [0.8888888888888888, \"#fdca26\"], [1.0, \"#f0f921\"]], \"type\": \"surface\"}], \"table\": [{\"cells\": {\"fill\": {\"color\": \"#EBF0F8\"}, \"line\": {\"color\": \"white\"}}, \"header\": {\"fill\": {\"color\": \"#C8D4E3\"}, \"line\": {\"color\": \"white\"}}, \"type\": \"table\"}]}, \"layout\": {\"annotationdefaults\": {\"arrowcolor\": \"#2a3f5f\", \"arrowhead\": 0, \"arrowwidth\": 1}, \"coloraxis\": {\"colorbar\": {\"outlinewidth\": 0, \"ticks\": \"\"}}, \"colorscale\": {\"diverging\": [[0, \"#8e0152\"], [0.1, \"#c51b7d\"], [0.2, \"#de77ae\"], [0.3, \"#f1b6da\"], [0.4, \"#fde0ef\"], [0.5, \"#f7f7f7\"], [0.6, \"#e6f5d0\"], [0.7, \"#b8e186\"], [0.8, \"#7fbc41\"], [0.9, \"#4d9221\"], [1, \"#276419\"]], \"sequential\": [[0.0, \"#0d0887\"], [0.1111111111111111, \"#46039f\"], [0.2222222222222222, \"#7201a8\"], [0.3333333333333333, \"#9c179e\"], [0.4444444444444444, \"#bd3786\"], [0.5555555555555556, \"#d8576b\"], [0.6666666666666666, \"#ed7953\"], [0.7777777777777778, \"#fb9f3a\"], [0.8888888888888888, \"#fdca26\"], [1.0, \"#f0f921\"]], \"sequentialminus\": [[0.0, \"#0d0887\"], [0.1111111111111111, \"#46039f\"], [0.2222222222222222, \"#7201a8\"], [0.3333333333333333, \"#9c179e\"], [0.4444444444444444, \"#bd3786\"], [0.5555555555555556, \"#d8576b\"], [0.6666666666666666, \"#ed7953\"], [0.7777777777777778, \"#fb9f3a\"], [0.8888888888888888, \"#fdca26\"], [1.0, \"#f0f921\"]]}, \"colorway\": [\"#636efa\", \"#EF553B\", \"#00cc96\", \"#ab63fa\", \"#FFA15A\", \"#19d3f3\", \"#FF6692\", \"#B6E880\", \"#FF97FF\", \"#FECB52\"], \"font\": {\"color\": \"#2a3f5f\"}, \"geo\": {\"bgcolor\": \"white\", \"lakecolor\": \"white\", \"landcolor\": \"#E5ECF6\", \"showlakes\": true, \"showland\": true, \"subunitcolor\": \"white\"}, \"hoverlabel\": {\"align\": \"left\"}, \"hovermode\": \"closest\", \"mapbox\": {\"style\": \"light\"}, \"paper_bgcolor\": \"white\", \"plot_bgcolor\": \"#E5ECF6\", \"polar\": {\"angularaxis\": {\"gridcolor\": \"white\", \"linecolor\": \"white\", \"ticks\": \"\"}, \"bgcolor\": \"#E5ECF6\", \"radialaxis\": {\"gridcolor\": \"white\", \"linecolor\": \"white\", \"ticks\": \"\"}}, \"scene\": {\"xaxis\": {\"backgroundcolor\": \"#E5ECF6\", \"gridcolor\": \"white\", \"gridwidth\": 2, \"linecolor\": \"white\", \"showbackground\": true, \"ticks\": \"\", \"zerolinecolor\": \"white\"}, \"yaxis\": {\"backgroundcolor\": \"#E5ECF6\", \"gridcolor\": \"white\", \"gridwidth\": 2, \"linecolor\": \"white\", \"showbackground\": true, \"ticks\": \"\", \"zerolinecolor\": \"white\"}, \"zaxis\": {\"backgroundcolor\": \"#E5ECF6\", \"gridcolor\": \"white\", \"gridwidth\": 2, \"linecolor\": \"white\", \"showbackground\": true, \"ticks\": \"\", \"zerolinecolor\": \"white\"}}, \"shapedefaults\": {\"line\": {\"color\": \"#2a3f5f\"}}, \"ternary\": {\"aaxis\": {\"gridcolor\": \"white\", \"linecolor\": \"white\", \"ticks\": \"\"}, \"baxis\": {\"gridcolor\": \"white\", \"linecolor\": \"white\", \"ticks\": \"\"}, \"bgcolor\": \"#E5ECF6\", \"caxis\": {\"gridcolor\": \"white\", \"linecolor\": \"white\", \"ticks\": \"\"}}, \"title\": {\"x\": 0.05}, \"xaxis\": {\"automargin\": true, \"gridcolor\": \"white\", \"linecolor\": \"white\", \"ticks\": \"\", \"title\": {\"standoff\": 15}, \"zerolinecolor\": \"white\", \"zerolinewidth\": 2}, \"yaxis\": {\"automargin\": true, \"gridcolor\": \"white\", \"linecolor\": \"white\", \"ticks\": \"\", \"title\": {\"standoff\": 15}, \"zerolinecolor\": \"white\", \"zerolinewidth\": 2}}}, \"xaxis\": {\"anchor\": \"y\", \"domain\": [0.0, 1.0], \"title\": {\"text\": \"0\"}}, \"yaxis\": {\"anchor\": \"x\", \"domain\": [0.0, 1.0], \"title\": {\"text\": \"1\"}}},                        {\"responsive\": true}                    ).then(function(){\n",
       "                            \n",
       "var gd = document.getElementById('2f0dffd1-d700-4c67-91b1-120f7297b59b');\n",
       "var x = new MutationObserver(function (mutations, observer) {{\n",
       "        var display = window.getComputedStyle(gd).display;\n",
       "        if (!display || display === 'none') {{\n",
       "            console.log([gd, 'removed!']);\n",
       "            Plotly.purge(gd);\n",
       "            observer.disconnect();\n",
       "        }}\n",
       "}});\n",
       "\n",
       "// Listen for the removal of the full notebook cells\n",
       "var notebookContainer = gd.closest('#notebook-container');\n",
       "if (notebookContainer) {{\n",
       "    x.observe(notebookContainer, {childList: true});\n",
       "}}\n",
       "\n",
       "// Listen for the clearing of the current output cell\n",
       "var outputEl = gd.closest('.output');\n",
       "if (outputEl) {{\n",
       "    x.observe(outputEl, {childList: true});\n",
       "}}\n",
       "\n",
       "                        })                };                });            </script>        </div>"
      ]
     },
     "metadata": {},
     "output_type": "display_data"
    }
   ],
   "source": [
    "X = df[['sepal_length', 'sepal_width', 'petal_length', 'petal_width']]\n",
    "\n",
    "pca = PCA(n_components=2)\n",
    "components = pca.fit_transform(X)\n",
    "\n",
    "fig = px.scatter(components, x=0, y=1, color=df['species'])\n",
    "fig.show()"
   ]
  },
  {
   "cell_type": "markdown",
   "metadata": {},
   "source": [
    "# 3D PCA scatterplot\n",
    "- three dimensianal graph of principal components (cool way to show the dimensions of your data)\n",
    "- color the target class and see the distribution of principal componants\n",
    "- shows dimensianility of data"
   ]
  },
  {
   "cell_type": "code",
   "execution_count": 14,
   "metadata": {},
   "outputs": [
    {
     "data": {
      "application/vnd.plotly.v1+json": {
       "config": {
        "plotlyServerURL": "https://plot.ly"
       },
       "data": [
        {
         "hovertemplate": "color=setosa<br>PC 1=%{x}<br>PC 2=%{y}<br>PC 3=%{z}<extra></extra>",
         "legendgroup": "setosa",
         "marker": {
          "color": "#636efa",
          "symbol": "circle"
         },
         "mode": "markers",
         "name": "setosa",
         "scene": "scene",
         "showlegend": true,
         "type": "scatter3d",
         "x": [
          -2.6842071251039483,
          -2.71539061563413,
          -2.889819539617916,
          -2.746437197308734,
          -2.7285929818313144,
          -2.279897361009598,
          -2.8208906821806297,
          -2.6264819933238184,
          -2.887958565335634,
          -2.6738446867191206,
          -2.5065267893389036,
          -2.613142718271056,
          -2.787433975997097,
          -3.22520044627498,
          -2.643543216941146,
          -2.3838693237993756,
          -2.6225262031258083,
          -2.6483227324791265,
          -2.1990779614307634,
          -2.587346188917738,
          -2.3105317013131335,
          -2.5432349073036953,
          -3.215857694900105,
          -2.3031285376638824,
          -2.3561710866838976,
          -2.5079172268378804,
          -2.4690559975451225,
          -2.5623909468367505,
          -2.6398212683765814,
          -2.632847908030758,
          -2.588462051303391,
          -2.4100773371215958,
          -2.647636673396901,
          -2.5971594770759183,
          -2.6738446867191206,
          -2.866999846932534,
          -2.625228464680421,
          -2.6738446867191206,
          -2.981842664853908,
          -2.590323025585674,
          -2.770138910746324,
          -2.8522110815663906,
          -2.9982964428323506,
          -2.4055141012847012,
          -2.2088329541767058,
          -2.715665190747454,
          -2.537573371013507,
          -2.8403212968270086,
          -2.5426857570770482,
          -2.70391231486365
         ],
         "y": [
          0.3266073147643885,
          -0.16955684755602624,
          -0.13734560960502795,
          -0.31112431575199184,
          0.33392456356845474,
          0.7477827132251336,
          -0.082104511024681,
          0.17040534896028983,
          -0.5707980263315918,
          -0.10669170375273856,
          0.651935013672572,
          0.021520631960257896,
          -0.22774018887110628,
          -0.5032799094854259,
          1.1861948994134495,
          1.3447543445598622,
          0.8180896745965952,
          0.3191366677508846,
          0.8792440880917367,
          0.520473638805968,
          0.397867821588892,
          0.44003175465981526,
          0.14161557162558355,
          0.10552267842998224,
          -0.03120958906833842,
          -0.139056339913174,
          0.1378873145904177,
          0.3746845627501061,
          0.3192900659603219,
          -0.19007583063362415,
          -0.19739307943769085,
          0.41808000824761615,
          0.8199826325595069,
          1.1000219280072685,
          -0.10669170375273856,
          0.07719309572358721,
          0.6068000084215864,
          -0.10669170375273856,
          -0.4802500488560767,
          0.23605933728887282,
          0.2710594197651671,
          -0.9328653674695444,
          -0.3343075745907773,
          0.19591725769606078,
          0.4426960304210028,
          -0.24268148289811298,
          0.5103675454766059,
          -0.2205763382764767,
          0.5862810253439884,
          0.11501085217050566
         ],
         "z": [
          -0.021511837001963102,
          -0.20352142500549145,
          0.024709240998957712,
          0.03767197528530123,
          0.09622969977460939,
          0.17432561901640295,
          0.26425108519069607,
          -0.015801510264315043,
          0.02733540611450723,
          -0.19153329973564465,
          -0.06927499581393096,
          0.10765035324990473,
          -0.20032778809538926,
          0.06841362917233033,
          -0.14450570400963542,
          0.2837306639397771,
          0.14531598882161798,
          0.033394254070698105,
          -0.11452146479835279,
          0.21957208800082506,
          -0.23369560709796947,
          0.2148363702796755,
          0.2996189815108712,
          0.04568004127448713,
          0.12940757589599344,
          -0.24711633789085985,
          0.1012630794297022,
          -0.07235915743602817,
          -0.1392533737785348,
          0.04646646364504579,
          -0.071275073131526,
          -0.13838824005004097,
          0.23058560425417296,
          0.16358191262366278,
          -0.19153329973564465,
          -0.15684235049802425,
          -0.2611631564817056,
          -0.19153329973564465,
          0.07972480735962136,
          -0.07390123824707649,
          0.08424157450476331,
          -0.34096149110715174,
          0.19900842494724197,
          0.27071707036883347,
          0.30348780926827057,
          -0.09051560595006833,
          0.17191840447686085,
          0.0900613765304152,
          -0.011175267831168983,
          -0.08269572660682165
         ]
        },
        {
         "hovertemplate": "color=versicolor<br>PC 1=%{x}<br>PC 2=%{y}<br>PC 3=%{z}<extra></extra>",
         "legendgroup": "versicolor",
         "marker": {
          "color": "#EF553B",
          "symbol": "circle"
         },
         "mode": "markers",
         "name": "versicolor",
         "scene": "scene",
         "showlegend": true,
         "type": "scatter3d",
         "x": [
          1.284794587845071,
          0.9324107529829175,
          1.4640613227790753,
          0.1809672063476993,
          1.0871344872070012,
          0.6404367495231457,
          1.095223709938478,
          -0.7514671406482263,
          1.0432977807062809,
          -0.010190070727852822,
          -0.5110861958950897,
          0.5110980606834775,
          0.2623357561531805,
          0.984044545169431,
          -0.1748640019656959,
          0.9275729420326997,
          0.6595927890562004,
          0.23454058625983584,
          0.9423617073988423,
          0.04324640032870497,
          1.1162407237538159,
          0.3567865678304614,
          1.2964688502855342,
          0.9205026489090096,
          0.7140082136428333,
          0.8996408632837759,
          1.33104141885472,
          1.557396272070702,
          0.812455548998002,
          -0.30733475566340396,
          -0.07034288894927106,
          -0.19188449210314515,
          0.13499495045137355,
          1.378736982775583,
          0.5872748535799112,
          0.8072054966767166,
          1.2204289662446792,
          0.81286779036907,
          0.2451951616903462,
          0.16451342836925617,
          0.4630309888714247,
          0.8901604456511564,
          0.2288790499696479,
          -0.7070812839208597,
          0.35553303918706386,
          0.33112694733272313,
          0.375238228946766,
          0.6416902781665432,
          -0.9084633331234948,
          0.2978079074069342
         ],
         "y": [
          0.6854391861329202,
          0.3191980898336488,
          0.5041898329724531,
          -0.8256039435761133,
          0.0753903892887675,
          -0.41732348297002575,
          0.28389121093848035,
          -1.0011075129743943,
          0.22895690877700686,
          -0.7205748667019015,
          -1.2624919538621404,
          -0.1022841050459702,
          -0.5478932980253367,
          -0.12436042022227789,
          -0.25181557108017066,
          0.46823620504311714,
          -0.3519762910603165,
          -0.33192182936212034,
          -0.541822258150014,
          -0.5814894466123587,
          -0.08421401387837349,
          -0.06682382794136613,
          -0.3275615197949442,
          -0.18239036332792097,
          0.15037915314843728,
          0.32961097958188407,
          0.24466952060228936,
          0.26739258481276484,
          -0.16233157487863326,
          -0.36508661276616033,
          -0.7025379317307259,
          -0.6774905443743572,
          -0.3117096427033962,
          -0.4212051382146283,
          -0.4832842677174825,
          0.19505396377111148,
          0.4080353370010176,
          -0.37067899831890966,
          -0.266728035661848,
          -0.6796614693108137,
          -0.6695265465361225,
          -0.03381244274676266,
          -0.4022576201789113,
          -1.0084247617784612,
          -0.5032184874026623,
          -0.21118014066262672,
          -0.2916220248087798,
          0.019071176491270835,
          -0.7515687251694855,
          -0.34701652159856394
         ],
         "z": [
          -0.40612955307696313,
          -0.017129909205125235,
          -0.33826072771795895,
          -0.17708285639336488,
          -0.3065444648144318,
          0.04118876935364434,
          0.1700225337414998,
          0.015672194238160093,
          -0.414814566148704,
          0.28343724625412553,
          -0.26648995382244983,
          0.1323278904749737,
          -0.6919415783189649,
          -0.06215742761353879,
          0.09365863819195037,
          -0.31322940056857723,
          0.3283842970693479,
          -0.2702806708356937,
          -0.4973485411777046,
          -0.2329635564825228,
          0.45984422657275353,
          -0.22747218032088332,
          -0.34751321258425033,
          -0.23161141855267006,
          -0.32037233282926975,
          -0.3147714813796257,
          -0.5212449247379847,
          -0.16463849085222862,
          0.03634357634449068,
          -0.3153371969389201,
          -0.24175804484226798,
          -0.3039165434636248,
          -0.17497330378776524,
          0.015480495121708304,
          0.44458375303487097,
          0.38945871138620264,
          -0.23656608684982794,
          -0.6128710500606732,
          0.18956248472924195,
          -0.05779923880574424,
          -0.024053890889809318,
          -0.00976802636842478,
          -0.22736270503287936,
          -0.10206934253841171,
          0.01788946589650754,
          0.08380907322251578,
          0.07907335550136596,
          -0.20417287686374627,
          -0.007736584506980753,
          0.012179139158859284
         ]
        },
        {
         "hovertemplate": "color=virginica<br>PC 1=%{x}<br>PC 2=%{y}<br>PC 3=%{z}<extra></extra>",
         "legendgroup": "virginica",
         "marker": {
          "color": "#00cc96",
          "symbol": "circle"
         },
         "mode": "markers",
         "name": "virginica",
         "scene": "scene",
         "showlegend": true,
         "type": "scatter3d",
         "x": [
          2.5317269804395583,
          1.4140722251737576,
          2.6164846082840434,
          1.970814945906482,
          2.349757983950943,
          3.3968799206781375,
          0.5193832450849368,
          2.932005096991301,
          2.319672793874053,
          2.9181342336442513,
          1.6619349470194866,
          1.8023404526607334,
          2.165378862953397,
          1.3445942175098249,
          1.585267299308644,
          1.9047435782139124,
          1.949248781864498,
          3.488765379656386,
          3.79468686120997,
          1.2983298245678165,
          2.4281672590208476,
          1.1980973722749628,
          3.4992654842989572,
          1.3876682501815556,
          2.2758536493056933,
          2.6141938306983334,
          1.2576251829251366,
          1.2906696477376016,
          2.1228539805083133,
          2.3875644023690277,
          2.840960925285384,
          3.232342898295874,
          2.158738373133135,
          1.4431026043759747,
          1.7796401068985703,
          3.076521621020662,
          2.144986856709304,
          1.9048629251371318,
          1.1688534694704038,
          2.107653731173268,
          2.314303394629548,
          1.9224508848357522,
          1.4140722251737576,
          2.563322712340809,
          2.41939121980498,
          1.9440170488777369,
          1.5256636313138727,
          1.764045935526983,
          1.901629075288233,
          1.3896661333194171
         ],
         "y": [
          -0.011842236640300523,
          -0.5749250559123048,
          0.3419352869872948,
          -0.18112569470491371,
          -0.04188254965484184,
          0.5471680462301528,
          -1.1913516890506533,
          0.3523770061808598,
          -0.2455481706069101,
          0.7803806293720322,
          0.2420384010375224,
          -0.21615460662653627,
          0.21528028337300723,
          -0.7764154251768252,
          -0.539307053847172,
          0.11881899098269857,
          0.040730259427767854,
          1.1715445442635644,
          0.25326557097253466,
          -0.7610139365215078,
          0.3767819712541526,
          -0.6055789617645945,
          0.4567734669640746,
          -0.20403098657015473,
          0.3333865257566422,
          0.5583669502788224,
          -0.17913699742322278,
          -0.11642525182937251,
          -0.2108548845494899,
          0.46251925072626066,
          0.37274259104902147,
          1.3705240359763338,
          -0.21832553156299322,
          -0.14380128908272616,
          -0.5014647947060157,
          0.6857644422460568,
          0.13890660887731443,
          0.048047508231834596,
          -0.16450249981508994,
          0.3714822491771058,
          0.1826088507936986,
          0.4092711761786957,
          -0.5749250559123048,
          0.27597450223983816,
          0.30350393770262885,
          0.18741522204601396,
          -0.3750208481918228,
          0.07851918642935747,
          0.11587674824796555,
          -0.28288670917226916
         ],
         "z": [
          0.7584586515284955,
          0.2963982243052131,
          -0.11214137055436675,
          0.10653914864984594,
          0.28411068086616736,
          -0.3518731576273015,
          0.5466855311249489,
          -0.4236912783368969,
          -0.3499221833590494,
          0.42173893361376735,
          0.24281526346759313,
          -0.03769532849396476,
          0.0331481831991332,
          0.2828680182243182,
          0.6305704884623257,
          0.48013807976572853,
          0.042729093929436614,
          0.1293200833617756,
          -0.5169707159938949,
          -0.3448870474686999,
          0.21864907004670506,
          0.5126407650398147,
          -0.5769101867216484,
          -0.06351132177864816,
          0.28467815266071794,
          -0.20842334661879328,
          0.046977807449227076,
          0.231613560568306,
          0.15351588509125513,
          -0.45202396144912743,
          -0.5010315391382015,
          -0.11844877739515763,
          0.20842197616391567,
          -0.1540829711054271,
          -0.17581118605670318,
          -0.33642274120822385,
          0.7341847390548603,
          0.16047063070600845,
          0.2824608810023712,
          0.027437856461485263,
          0.3228604007423825,
          0.1154928159607172,
          0.2963982243052131,
          0.2912536131268597,
          0.5043025169513597,
          0.17930287068112669,
          -0.12063644074491217,
          0.13078405342866883,
          0.7228735608675687,
          0.3623178316312214
         ]
        }
       ],
       "layout": {
        "legend": {
         "title": {
          "text": "color"
         },
         "tracegroupgap": 0
        },
        "scene": {
         "domain": {
          "x": [
           0,
           1
          ],
          "y": [
           0,
           1
          ]
         },
         "xaxis": {
          "title": {
           "text": "PC 1"
          }
         },
         "yaxis": {
          "title": {
           "text": "PC 2"
          }
         },
         "zaxis": {
          "title": {
           "text": "PC 3"
          }
         }
        },
        "template": {
         "data": {
          "bar": [
           {
            "error_x": {
             "color": "#2a3f5f"
            },
            "error_y": {
             "color": "#2a3f5f"
            },
            "marker": {
             "line": {
              "color": "#E5ECF6",
              "width": 0.5
             }
            },
            "type": "bar"
           }
          ],
          "barpolar": [
           {
            "marker": {
             "line": {
              "color": "#E5ECF6",
              "width": 0.5
             }
            },
            "type": "barpolar"
           }
          ],
          "carpet": [
           {
            "aaxis": {
             "endlinecolor": "#2a3f5f",
             "gridcolor": "white",
             "linecolor": "white",
             "minorgridcolor": "white",
             "startlinecolor": "#2a3f5f"
            },
            "baxis": {
             "endlinecolor": "#2a3f5f",
             "gridcolor": "white",
             "linecolor": "white",
             "minorgridcolor": "white",
             "startlinecolor": "#2a3f5f"
            },
            "type": "carpet"
           }
          ],
          "choropleth": [
           {
            "colorbar": {
             "outlinewidth": 0,
             "ticks": ""
            },
            "type": "choropleth"
           }
          ],
          "contour": [
           {
            "colorbar": {
             "outlinewidth": 0,
             "ticks": ""
            },
            "colorscale": [
             [
              0,
              "#0d0887"
             ],
             [
              0.1111111111111111,
              "#46039f"
             ],
             [
              0.2222222222222222,
              "#7201a8"
             ],
             [
              0.3333333333333333,
              "#9c179e"
             ],
             [
              0.4444444444444444,
              "#bd3786"
             ],
             [
              0.5555555555555556,
              "#d8576b"
             ],
             [
              0.6666666666666666,
              "#ed7953"
             ],
             [
              0.7777777777777778,
              "#fb9f3a"
             ],
             [
              0.8888888888888888,
              "#fdca26"
             ],
             [
              1,
              "#f0f921"
             ]
            ],
            "type": "contour"
           }
          ],
          "contourcarpet": [
           {
            "colorbar": {
             "outlinewidth": 0,
             "ticks": ""
            },
            "type": "contourcarpet"
           }
          ],
          "heatmap": [
           {
            "colorbar": {
             "outlinewidth": 0,
             "ticks": ""
            },
            "colorscale": [
             [
              0,
              "#0d0887"
             ],
             [
              0.1111111111111111,
              "#46039f"
             ],
             [
              0.2222222222222222,
              "#7201a8"
             ],
             [
              0.3333333333333333,
              "#9c179e"
             ],
             [
              0.4444444444444444,
              "#bd3786"
             ],
             [
              0.5555555555555556,
              "#d8576b"
             ],
             [
              0.6666666666666666,
              "#ed7953"
             ],
             [
              0.7777777777777778,
              "#fb9f3a"
             ],
             [
              0.8888888888888888,
              "#fdca26"
             ],
             [
              1,
              "#f0f921"
             ]
            ],
            "type": "heatmap"
           }
          ],
          "heatmapgl": [
           {
            "colorbar": {
             "outlinewidth": 0,
             "ticks": ""
            },
            "colorscale": [
             [
              0,
              "#0d0887"
             ],
             [
              0.1111111111111111,
              "#46039f"
             ],
             [
              0.2222222222222222,
              "#7201a8"
             ],
             [
              0.3333333333333333,
              "#9c179e"
             ],
             [
              0.4444444444444444,
              "#bd3786"
             ],
             [
              0.5555555555555556,
              "#d8576b"
             ],
             [
              0.6666666666666666,
              "#ed7953"
             ],
             [
              0.7777777777777778,
              "#fb9f3a"
             ],
             [
              0.8888888888888888,
              "#fdca26"
             ],
             [
              1,
              "#f0f921"
             ]
            ],
            "type": "heatmapgl"
           }
          ],
          "histogram": [
           {
            "marker": {
             "colorbar": {
              "outlinewidth": 0,
              "ticks": ""
             }
            },
            "type": "histogram"
           }
          ],
          "histogram2d": [
           {
            "colorbar": {
             "outlinewidth": 0,
             "ticks": ""
            },
            "colorscale": [
             [
              0,
              "#0d0887"
             ],
             [
              0.1111111111111111,
              "#46039f"
             ],
             [
              0.2222222222222222,
              "#7201a8"
             ],
             [
              0.3333333333333333,
              "#9c179e"
             ],
             [
              0.4444444444444444,
              "#bd3786"
             ],
             [
              0.5555555555555556,
              "#d8576b"
             ],
             [
              0.6666666666666666,
              "#ed7953"
             ],
             [
              0.7777777777777778,
              "#fb9f3a"
             ],
             [
              0.8888888888888888,
              "#fdca26"
             ],
             [
              1,
              "#f0f921"
             ]
            ],
            "type": "histogram2d"
           }
          ],
          "histogram2dcontour": [
           {
            "colorbar": {
             "outlinewidth": 0,
             "ticks": ""
            },
            "colorscale": [
             [
              0,
              "#0d0887"
             ],
             [
              0.1111111111111111,
              "#46039f"
             ],
             [
              0.2222222222222222,
              "#7201a8"
             ],
             [
              0.3333333333333333,
              "#9c179e"
             ],
             [
              0.4444444444444444,
              "#bd3786"
             ],
             [
              0.5555555555555556,
              "#d8576b"
             ],
             [
              0.6666666666666666,
              "#ed7953"
             ],
             [
              0.7777777777777778,
              "#fb9f3a"
             ],
             [
              0.8888888888888888,
              "#fdca26"
             ],
             [
              1,
              "#f0f921"
             ]
            ],
            "type": "histogram2dcontour"
           }
          ],
          "mesh3d": [
           {
            "colorbar": {
             "outlinewidth": 0,
             "ticks": ""
            },
            "type": "mesh3d"
           }
          ],
          "parcoords": [
           {
            "line": {
             "colorbar": {
              "outlinewidth": 0,
              "ticks": ""
             }
            },
            "type": "parcoords"
           }
          ],
          "pie": [
           {
            "automargin": true,
            "type": "pie"
           }
          ],
          "scatter": [
           {
            "marker": {
             "colorbar": {
              "outlinewidth": 0,
              "ticks": ""
             }
            },
            "type": "scatter"
           }
          ],
          "scatter3d": [
           {
            "line": {
             "colorbar": {
              "outlinewidth": 0,
              "ticks": ""
             }
            },
            "marker": {
             "colorbar": {
              "outlinewidth": 0,
              "ticks": ""
             }
            },
            "type": "scatter3d"
           }
          ],
          "scattercarpet": [
           {
            "marker": {
             "colorbar": {
              "outlinewidth": 0,
              "ticks": ""
             }
            },
            "type": "scattercarpet"
           }
          ],
          "scattergeo": [
           {
            "marker": {
             "colorbar": {
              "outlinewidth": 0,
              "ticks": ""
             }
            },
            "type": "scattergeo"
           }
          ],
          "scattergl": [
           {
            "marker": {
             "colorbar": {
              "outlinewidth": 0,
              "ticks": ""
             }
            },
            "type": "scattergl"
           }
          ],
          "scattermapbox": [
           {
            "marker": {
             "colorbar": {
              "outlinewidth": 0,
              "ticks": ""
             }
            },
            "type": "scattermapbox"
           }
          ],
          "scatterpolar": [
           {
            "marker": {
             "colorbar": {
              "outlinewidth": 0,
              "ticks": ""
             }
            },
            "type": "scatterpolar"
           }
          ],
          "scatterpolargl": [
           {
            "marker": {
             "colorbar": {
              "outlinewidth": 0,
              "ticks": ""
             }
            },
            "type": "scatterpolargl"
           }
          ],
          "scatterternary": [
           {
            "marker": {
             "colorbar": {
              "outlinewidth": 0,
              "ticks": ""
             }
            },
            "type": "scatterternary"
           }
          ],
          "surface": [
           {
            "colorbar": {
             "outlinewidth": 0,
             "ticks": ""
            },
            "colorscale": [
             [
              0,
              "#0d0887"
             ],
             [
              0.1111111111111111,
              "#46039f"
             ],
             [
              0.2222222222222222,
              "#7201a8"
             ],
             [
              0.3333333333333333,
              "#9c179e"
             ],
             [
              0.4444444444444444,
              "#bd3786"
             ],
             [
              0.5555555555555556,
              "#d8576b"
             ],
             [
              0.6666666666666666,
              "#ed7953"
             ],
             [
              0.7777777777777778,
              "#fb9f3a"
             ],
             [
              0.8888888888888888,
              "#fdca26"
             ],
             [
              1,
              "#f0f921"
             ]
            ],
            "type": "surface"
           }
          ],
          "table": [
           {
            "cells": {
             "fill": {
              "color": "#EBF0F8"
             },
             "line": {
              "color": "white"
             }
            },
            "header": {
             "fill": {
              "color": "#C8D4E3"
             },
             "line": {
              "color": "white"
             }
            },
            "type": "table"
           }
          ]
         },
         "layout": {
          "annotationdefaults": {
           "arrowcolor": "#2a3f5f",
           "arrowhead": 0,
           "arrowwidth": 1
          },
          "coloraxis": {
           "colorbar": {
            "outlinewidth": 0,
            "ticks": ""
           }
          },
          "colorscale": {
           "diverging": [
            [
             0,
             "#8e0152"
            ],
            [
             0.1,
             "#c51b7d"
            ],
            [
             0.2,
             "#de77ae"
            ],
            [
             0.3,
             "#f1b6da"
            ],
            [
             0.4,
             "#fde0ef"
            ],
            [
             0.5,
             "#f7f7f7"
            ],
            [
             0.6,
             "#e6f5d0"
            ],
            [
             0.7,
             "#b8e186"
            ],
            [
             0.8,
             "#7fbc41"
            ],
            [
             0.9,
             "#4d9221"
            ],
            [
             1,
             "#276419"
            ]
           ],
           "sequential": [
            [
             0,
             "#0d0887"
            ],
            [
             0.1111111111111111,
             "#46039f"
            ],
            [
             0.2222222222222222,
             "#7201a8"
            ],
            [
             0.3333333333333333,
             "#9c179e"
            ],
            [
             0.4444444444444444,
             "#bd3786"
            ],
            [
             0.5555555555555556,
             "#d8576b"
            ],
            [
             0.6666666666666666,
             "#ed7953"
            ],
            [
             0.7777777777777778,
             "#fb9f3a"
            ],
            [
             0.8888888888888888,
             "#fdca26"
            ],
            [
             1,
             "#f0f921"
            ]
           ],
           "sequentialminus": [
            [
             0,
             "#0d0887"
            ],
            [
             0.1111111111111111,
             "#46039f"
            ],
            [
             0.2222222222222222,
             "#7201a8"
            ],
            [
             0.3333333333333333,
             "#9c179e"
            ],
            [
             0.4444444444444444,
             "#bd3786"
            ],
            [
             0.5555555555555556,
             "#d8576b"
            ],
            [
             0.6666666666666666,
             "#ed7953"
            ],
            [
             0.7777777777777778,
             "#fb9f3a"
            ],
            [
             0.8888888888888888,
             "#fdca26"
            ],
            [
             1,
             "#f0f921"
            ]
           ]
          },
          "colorway": [
           "#636efa",
           "#EF553B",
           "#00cc96",
           "#ab63fa",
           "#FFA15A",
           "#19d3f3",
           "#FF6692",
           "#B6E880",
           "#FF97FF",
           "#FECB52"
          ],
          "font": {
           "color": "#2a3f5f"
          },
          "geo": {
           "bgcolor": "white",
           "lakecolor": "white",
           "landcolor": "#E5ECF6",
           "showlakes": true,
           "showland": true,
           "subunitcolor": "white"
          },
          "hoverlabel": {
           "align": "left"
          },
          "hovermode": "closest",
          "mapbox": {
           "style": "light"
          },
          "paper_bgcolor": "white",
          "plot_bgcolor": "#E5ECF6",
          "polar": {
           "angularaxis": {
            "gridcolor": "white",
            "linecolor": "white",
            "ticks": ""
           },
           "bgcolor": "#E5ECF6",
           "radialaxis": {
            "gridcolor": "white",
            "linecolor": "white",
            "ticks": ""
           }
          },
          "scene": {
           "xaxis": {
            "backgroundcolor": "#E5ECF6",
            "gridcolor": "white",
            "gridwidth": 2,
            "linecolor": "white",
            "showbackground": true,
            "ticks": "",
            "zerolinecolor": "white"
           },
           "yaxis": {
            "backgroundcolor": "#E5ECF6",
            "gridcolor": "white",
            "gridwidth": 2,
            "linecolor": "white",
            "showbackground": true,
            "ticks": "",
            "zerolinecolor": "white"
           },
           "zaxis": {
            "backgroundcolor": "#E5ECF6",
            "gridcolor": "white",
            "gridwidth": 2,
            "linecolor": "white",
            "showbackground": true,
            "ticks": "",
            "zerolinecolor": "white"
           }
          },
          "shapedefaults": {
           "line": {
            "color": "#2a3f5f"
           }
          },
          "ternary": {
           "aaxis": {
            "gridcolor": "white",
            "linecolor": "white",
            "ticks": ""
           },
           "baxis": {
            "gridcolor": "white",
            "linecolor": "white",
            "ticks": ""
           },
           "bgcolor": "#E5ECF6",
           "caxis": {
            "gridcolor": "white",
            "linecolor": "white",
            "ticks": ""
           }
          },
          "title": {
           "x": 0.05
          },
          "xaxis": {
           "automargin": true,
           "gridcolor": "white",
           "linecolor": "white",
           "ticks": "",
           "title": {
            "standoff": 15
           },
           "zerolinecolor": "white",
           "zerolinewidth": 2
          },
          "yaxis": {
           "automargin": true,
           "gridcolor": "white",
           "linecolor": "white",
           "ticks": "",
           "title": {
            "standoff": 15
           },
           "zerolinecolor": "white",
           "zerolinewidth": 2
          }
         }
        },
        "title": {
         "text": "Total Explained Variance: 100.00%"
        }
       }
      },
      "text/html": [
       "<div>                            <div id=\"d6ecc97c-b3d0-49c4-888d-ea814fa5ae1f\" class=\"plotly-graph-div\" style=\"height:525px; width:100%;\"></div>            <script type=\"text/javascript\">                require([\"plotly\"], function(Plotly) {                    window.PLOTLYENV=window.PLOTLYENV || {};                                    if (document.getElementById(\"d6ecc97c-b3d0-49c4-888d-ea814fa5ae1f\")) {                    Plotly.newPlot(                        \"d6ecc97c-b3d0-49c4-888d-ea814fa5ae1f\",                        [{\"hovertemplate\": \"color=setosa<br>PC 1=%{x}<br>PC 2=%{y}<br>PC 3=%{z}<extra></extra>\", \"legendgroup\": \"setosa\", \"marker\": {\"color\": \"#636efa\", \"symbol\": \"circle\"}, \"mode\": \"markers\", \"name\": \"setosa\", \"scene\": \"scene\", \"showlegend\": true, \"type\": \"scatter3d\", \"x\": [-2.6842071251039483, -2.71539061563413, -2.889819539617916, -2.746437197308734, -2.7285929818313144, -2.279897361009598, -2.8208906821806297, -2.6264819933238184, -2.887958565335634, -2.6738446867191206, -2.5065267893389036, -2.613142718271056, -2.787433975997097, -3.22520044627498, -2.643543216941146, -2.3838693237993756, -2.6225262031258083, -2.6483227324791265, -2.1990779614307634, -2.587346188917738, -2.3105317013131335, -2.5432349073036953, -3.215857694900105, -2.3031285376638824, -2.3561710866838976, -2.5079172268378804, -2.4690559975451225, -2.5623909468367505, -2.6398212683765814, -2.632847908030758, -2.588462051303391, -2.4100773371215958, -2.647636673396901, -2.5971594770759183, -2.6738446867191206, -2.866999846932534, -2.625228464680421, -2.6738446867191206, -2.981842664853908, -2.590323025585674, -2.770138910746324, -2.8522110815663906, -2.9982964428323506, -2.4055141012847012, -2.2088329541767058, -2.715665190747454, -2.537573371013507, -2.8403212968270086, -2.5426857570770482, -2.70391231486365], \"y\": [0.3266073147643885, -0.16955684755602624, -0.13734560960502795, -0.31112431575199184, 0.33392456356845474, 0.7477827132251336, -0.082104511024681, 0.17040534896028983, -0.5707980263315918, -0.10669170375273856, 0.651935013672572, 0.021520631960257896, -0.22774018887110628, -0.5032799094854259, 1.1861948994134495, 1.3447543445598622, 0.8180896745965952, 0.3191366677508846, 0.8792440880917367, 0.520473638805968, 0.397867821588892, 0.44003175465981526, 0.14161557162558355, 0.10552267842998224, -0.03120958906833842, -0.139056339913174, 0.1378873145904177, 0.3746845627501061, 0.3192900659603219, -0.19007583063362415, -0.19739307943769085, 0.41808000824761615, 0.8199826325595069, 1.1000219280072685, -0.10669170375273856, 0.07719309572358721, 0.6068000084215864, -0.10669170375273856, -0.4802500488560767, 0.23605933728887282, 0.2710594197651671, -0.9328653674695444, -0.3343075745907773, 0.19591725769606078, 0.4426960304210028, -0.24268148289811298, 0.5103675454766059, -0.2205763382764767, 0.5862810253439884, 0.11501085217050566], \"z\": [-0.021511837001963102, -0.20352142500549145, 0.024709240998957712, 0.03767197528530123, 0.09622969977460939, 0.17432561901640295, 0.26425108519069607, -0.015801510264315043, 0.02733540611450723, -0.19153329973564465, -0.06927499581393096, 0.10765035324990473, -0.20032778809538926, 0.06841362917233033, -0.14450570400963542, 0.2837306639397771, 0.14531598882161798, 0.033394254070698105, -0.11452146479835279, 0.21957208800082506, -0.23369560709796947, 0.2148363702796755, 0.2996189815108712, 0.04568004127448713, 0.12940757589599344, -0.24711633789085985, 0.1012630794297022, -0.07235915743602817, -0.1392533737785348, 0.04646646364504579, -0.071275073131526, -0.13838824005004097, 0.23058560425417296, 0.16358191262366278, -0.19153329973564465, -0.15684235049802425, -0.2611631564817056, -0.19153329973564465, 0.07972480735962136, -0.07390123824707649, 0.08424157450476331, -0.34096149110715174, 0.19900842494724197, 0.27071707036883347, 0.30348780926827057, -0.09051560595006833, 0.17191840447686085, 0.0900613765304152, -0.011175267831168983, -0.08269572660682165]}, {\"hovertemplate\": \"color=versicolor<br>PC 1=%{x}<br>PC 2=%{y}<br>PC 3=%{z}<extra></extra>\", \"legendgroup\": \"versicolor\", \"marker\": {\"color\": \"#EF553B\", \"symbol\": \"circle\"}, \"mode\": \"markers\", \"name\": \"versicolor\", \"scene\": \"scene\", \"showlegend\": true, \"type\": \"scatter3d\", \"x\": [1.284794587845071, 0.9324107529829175, 1.4640613227790753, 0.1809672063476993, 1.0871344872070012, 0.6404367495231457, 1.095223709938478, -0.7514671406482263, 1.0432977807062809, -0.010190070727852822, -0.5110861958950897, 0.5110980606834775, 0.2623357561531805, 0.984044545169431, -0.1748640019656959, 0.9275729420326997, 0.6595927890562004, 0.23454058625983584, 0.9423617073988423, 0.04324640032870497, 1.1162407237538159, 0.3567865678304614, 1.2964688502855342, 0.9205026489090096, 0.7140082136428333, 0.8996408632837759, 1.33104141885472, 1.557396272070702, 0.812455548998002, -0.30733475566340396, -0.07034288894927106, -0.19188449210314515, 0.13499495045137355, 1.378736982775583, 0.5872748535799112, 0.8072054966767166, 1.2204289662446792, 0.81286779036907, 0.2451951616903462, 0.16451342836925617, 0.4630309888714247, 0.8901604456511564, 0.2288790499696479, -0.7070812839208597, 0.35553303918706386, 0.33112694733272313, 0.375238228946766, 0.6416902781665432, -0.9084633331234948, 0.2978079074069342], \"y\": [0.6854391861329202, 0.3191980898336488, 0.5041898329724531, -0.8256039435761133, 0.0753903892887675, -0.41732348297002575, 0.28389121093848035, -1.0011075129743943, 0.22895690877700686, -0.7205748667019015, -1.2624919538621404, -0.1022841050459702, -0.5478932980253367, -0.12436042022227789, -0.25181557108017066, 0.46823620504311714, -0.3519762910603165, -0.33192182936212034, -0.541822258150014, -0.5814894466123587, -0.08421401387837349, -0.06682382794136613, -0.3275615197949442, -0.18239036332792097, 0.15037915314843728, 0.32961097958188407, 0.24466952060228936, 0.26739258481276484, -0.16233157487863326, -0.36508661276616033, -0.7025379317307259, -0.6774905443743572, -0.3117096427033962, -0.4212051382146283, -0.4832842677174825, 0.19505396377111148, 0.4080353370010176, -0.37067899831890966, -0.266728035661848, -0.6796614693108137, -0.6695265465361225, -0.03381244274676266, -0.4022576201789113, -1.0084247617784612, -0.5032184874026623, -0.21118014066262672, -0.2916220248087798, 0.019071176491270835, -0.7515687251694855, -0.34701652159856394], \"z\": [-0.40612955307696313, -0.017129909205125235, -0.33826072771795895, -0.17708285639336488, -0.3065444648144318, 0.04118876935364434, 0.1700225337414998, 0.015672194238160093, -0.414814566148704, 0.28343724625412553, -0.26648995382244983, 0.1323278904749737, -0.6919415783189649, -0.06215742761353879, 0.09365863819195037, -0.31322940056857723, 0.3283842970693479, -0.2702806708356937, -0.4973485411777046, -0.2329635564825228, 0.45984422657275353, -0.22747218032088332, -0.34751321258425033, -0.23161141855267006, -0.32037233282926975, -0.3147714813796257, -0.5212449247379847, -0.16463849085222862, 0.03634357634449068, -0.3153371969389201, -0.24175804484226798, -0.3039165434636248, -0.17497330378776524, 0.015480495121708304, 0.44458375303487097, 0.38945871138620264, -0.23656608684982794, -0.6128710500606732, 0.18956248472924195, -0.05779923880574424, -0.024053890889809318, -0.00976802636842478, -0.22736270503287936, -0.10206934253841171, 0.01788946589650754, 0.08380907322251578, 0.07907335550136596, -0.20417287686374627, -0.007736584506980753, 0.012179139158859284]}, {\"hovertemplate\": \"color=virginica<br>PC 1=%{x}<br>PC 2=%{y}<br>PC 3=%{z}<extra></extra>\", \"legendgroup\": \"virginica\", \"marker\": {\"color\": \"#00cc96\", \"symbol\": \"circle\"}, \"mode\": \"markers\", \"name\": \"virginica\", \"scene\": \"scene\", \"showlegend\": true, \"type\": \"scatter3d\", \"x\": [2.5317269804395583, 1.4140722251737576, 2.6164846082840434, 1.970814945906482, 2.349757983950943, 3.3968799206781375, 0.5193832450849368, 2.932005096991301, 2.319672793874053, 2.9181342336442513, 1.6619349470194866, 1.8023404526607334, 2.165378862953397, 1.3445942175098249, 1.585267299308644, 1.9047435782139124, 1.949248781864498, 3.488765379656386, 3.79468686120997, 1.2983298245678165, 2.4281672590208476, 1.1980973722749628, 3.4992654842989572, 1.3876682501815556, 2.2758536493056933, 2.6141938306983334, 1.2576251829251366, 1.2906696477376016, 2.1228539805083133, 2.3875644023690277, 2.840960925285384, 3.232342898295874, 2.158738373133135, 1.4431026043759747, 1.7796401068985703, 3.076521621020662, 2.144986856709304, 1.9048629251371318, 1.1688534694704038, 2.107653731173268, 2.314303394629548, 1.9224508848357522, 1.4140722251737576, 2.563322712340809, 2.41939121980498, 1.9440170488777369, 1.5256636313138727, 1.764045935526983, 1.901629075288233, 1.3896661333194171], \"y\": [-0.011842236640300523, -0.5749250559123048, 0.3419352869872948, -0.18112569470491371, -0.04188254965484184, 0.5471680462301528, -1.1913516890506533, 0.3523770061808598, -0.2455481706069101, 0.7803806293720322, 0.2420384010375224, -0.21615460662653627, 0.21528028337300723, -0.7764154251768252, -0.539307053847172, 0.11881899098269857, 0.040730259427767854, 1.1715445442635644, 0.25326557097253466, -0.7610139365215078, 0.3767819712541526, -0.6055789617645945, 0.4567734669640746, -0.20403098657015473, 0.3333865257566422, 0.5583669502788224, -0.17913699742322278, -0.11642525182937251, -0.2108548845494899, 0.46251925072626066, 0.37274259104902147, 1.3705240359763338, -0.21832553156299322, -0.14380128908272616, -0.5014647947060157, 0.6857644422460568, 0.13890660887731443, 0.048047508231834596, -0.16450249981508994, 0.3714822491771058, 0.1826088507936986, 0.4092711761786957, -0.5749250559123048, 0.27597450223983816, 0.30350393770262885, 0.18741522204601396, -0.3750208481918228, 0.07851918642935747, 0.11587674824796555, -0.28288670917226916], \"z\": [0.7584586515284955, 0.2963982243052131, -0.11214137055436675, 0.10653914864984594, 0.28411068086616736, -0.3518731576273015, 0.5466855311249489, -0.4236912783368969, -0.3499221833590494, 0.42173893361376735, 0.24281526346759313, -0.03769532849396476, 0.0331481831991332, 0.2828680182243182, 0.6305704884623257, 0.48013807976572853, 0.042729093929436614, 0.1293200833617756, -0.5169707159938949, -0.3448870474686999, 0.21864907004670506, 0.5126407650398147, -0.5769101867216484, -0.06351132177864816, 0.28467815266071794, -0.20842334661879328, 0.046977807449227076, 0.231613560568306, 0.15351588509125513, -0.45202396144912743, -0.5010315391382015, -0.11844877739515763, 0.20842197616391567, -0.1540829711054271, -0.17581118605670318, -0.33642274120822385, 0.7341847390548603, 0.16047063070600845, 0.2824608810023712, 0.027437856461485263, 0.3228604007423825, 0.1154928159607172, 0.2963982243052131, 0.2912536131268597, 0.5043025169513597, 0.17930287068112669, -0.12063644074491217, 0.13078405342866883, 0.7228735608675687, 0.3623178316312214]}],                        {\"legend\": {\"title\": {\"text\": \"color\"}, \"tracegroupgap\": 0}, \"scene\": {\"domain\": {\"x\": [0.0, 1.0], \"y\": [0.0, 1.0]}, \"xaxis\": {\"title\": {\"text\": \"PC 1\"}}, \"yaxis\": {\"title\": {\"text\": \"PC 2\"}}, \"zaxis\": {\"title\": {\"text\": \"PC 3\"}}}, \"template\": {\"data\": {\"bar\": [{\"error_x\": {\"color\": \"#2a3f5f\"}, \"error_y\": {\"color\": \"#2a3f5f\"}, \"marker\": {\"line\": {\"color\": \"#E5ECF6\", \"width\": 0.5}}, \"type\": \"bar\"}], \"barpolar\": [{\"marker\": {\"line\": {\"color\": \"#E5ECF6\", \"width\": 0.5}}, \"type\": \"barpolar\"}], \"carpet\": [{\"aaxis\": {\"endlinecolor\": \"#2a3f5f\", \"gridcolor\": \"white\", \"linecolor\": \"white\", \"minorgridcolor\": \"white\", \"startlinecolor\": \"#2a3f5f\"}, \"baxis\": {\"endlinecolor\": \"#2a3f5f\", \"gridcolor\": \"white\", \"linecolor\": \"white\", \"minorgridcolor\": \"white\", \"startlinecolor\": \"#2a3f5f\"}, \"type\": \"carpet\"}], \"choropleth\": [{\"colorbar\": {\"outlinewidth\": 0, \"ticks\": \"\"}, \"type\": \"choropleth\"}], \"contour\": [{\"colorbar\": {\"outlinewidth\": 0, \"ticks\": \"\"}, \"colorscale\": [[0.0, \"#0d0887\"], [0.1111111111111111, \"#46039f\"], [0.2222222222222222, \"#7201a8\"], [0.3333333333333333, \"#9c179e\"], [0.4444444444444444, \"#bd3786\"], [0.5555555555555556, \"#d8576b\"], [0.6666666666666666, \"#ed7953\"], [0.7777777777777778, \"#fb9f3a\"], [0.8888888888888888, \"#fdca26\"], [1.0, \"#f0f921\"]], \"type\": \"contour\"}], \"contourcarpet\": [{\"colorbar\": {\"outlinewidth\": 0, \"ticks\": \"\"}, \"type\": \"contourcarpet\"}], \"heatmap\": [{\"colorbar\": {\"outlinewidth\": 0, \"ticks\": \"\"}, \"colorscale\": [[0.0, \"#0d0887\"], [0.1111111111111111, \"#46039f\"], [0.2222222222222222, \"#7201a8\"], [0.3333333333333333, \"#9c179e\"], [0.4444444444444444, \"#bd3786\"], [0.5555555555555556, \"#d8576b\"], [0.6666666666666666, \"#ed7953\"], [0.7777777777777778, \"#fb9f3a\"], [0.8888888888888888, \"#fdca26\"], [1.0, \"#f0f921\"]], \"type\": \"heatmap\"}], \"heatmapgl\": [{\"colorbar\": {\"outlinewidth\": 0, \"ticks\": \"\"}, \"colorscale\": [[0.0, \"#0d0887\"], [0.1111111111111111, \"#46039f\"], [0.2222222222222222, \"#7201a8\"], [0.3333333333333333, \"#9c179e\"], [0.4444444444444444, \"#bd3786\"], [0.5555555555555556, \"#d8576b\"], [0.6666666666666666, \"#ed7953\"], [0.7777777777777778, \"#fb9f3a\"], [0.8888888888888888, \"#fdca26\"], [1.0, \"#f0f921\"]], \"type\": \"heatmapgl\"}], \"histogram\": [{\"marker\": {\"colorbar\": {\"outlinewidth\": 0, \"ticks\": \"\"}}, \"type\": \"histogram\"}], \"histogram2d\": [{\"colorbar\": {\"outlinewidth\": 0, \"ticks\": \"\"}, \"colorscale\": [[0.0, \"#0d0887\"], [0.1111111111111111, \"#46039f\"], [0.2222222222222222, \"#7201a8\"], [0.3333333333333333, \"#9c179e\"], [0.4444444444444444, \"#bd3786\"], [0.5555555555555556, \"#d8576b\"], [0.6666666666666666, \"#ed7953\"], [0.7777777777777778, \"#fb9f3a\"], [0.8888888888888888, \"#fdca26\"], [1.0, \"#f0f921\"]], \"type\": \"histogram2d\"}], \"histogram2dcontour\": [{\"colorbar\": {\"outlinewidth\": 0, \"ticks\": \"\"}, \"colorscale\": [[0.0, \"#0d0887\"], [0.1111111111111111, \"#46039f\"], [0.2222222222222222, \"#7201a8\"], [0.3333333333333333, \"#9c179e\"], [0.4444444444444444, \"#bd3786\"], [0.5555555555555556, \"#d8576b\"], [0.6666666666666666, \"#ed7953\"], [0.7777777777777778, \"#fb9f3a\"], [0.8888888888888888, \"#fdca26\"], [1.0, \"#f0f921\"]], \"type\": \"histogram2dcontour\"}], \"mesh3d\": [{\"colorbar\": {\"outlinewidth\": 0, \"ticks\": \"\"}, \"type\": \"mesh3d\"}], \"parcoords\": [{\"line\": {\"colorbar\": {\"outlinewidth\": 0, \"ticks\": \"\"}}, \"type\": \"parcoords\"}], \"pie\": [{\"automargin\": true, \"type\": \"pie\"}], \"scatter\": [{\"marker\": {\"colorbar\": {\"outlinewidth\": 0, \"ticks\": \"\"}}, \"type\": \"scatter\"}], \"scatter3d\": [{\"line\": {\"colorbar\": {\"outlinewidth\": 0, \"ticks\": \"\"}}, \"marker\": {\"colorbar\": {\"outlinewidth\": 0, \"ticks\": \"\"}}, \"type\": \"scatter3d\"}], \"scattercarpet\": [{\"marker\": {\"colorbar\": {\"outlinewidth\": 0, \"ticks\": \"\"}}, \"type\": \"scattercarpet\"}], \"scattergeo\": [{\"marker\": {\"colorbar\": {\"outlinewidth\": 0, \"ticks\": \"\"}}, \"type\": \"scattergeo\"}], \"scattergl\": [{\"marker\": {\"colorbar\": {\"outlinewidth\": 0, \"ticks\": \"\"}}, \"type\": \"scattergl\"}], \"scattermapbox\": [{\"marker\": {\"colorbar\": {\"outlinewidth\": 0, \"ticks\": \"\"}}, \"type\": \"scattermapbox\"}], \"scatterpolar\": [{\"marker\": {\"colorbar\": {\"outlinewidth\": 0, \"ticks\": \"\"}}, \"type\": \"scatterpolar\"}], \"scatterpolargl\": [{\"marker\": {\"colorbar\": {\"outlinewidth\": 0, \"ticks\": \"\"}}, \"type\": \"scatterpolargl\"}], \"scatterternary\": [{\"marker\": {\"colorbar\": {\"outlinewidth\": 0, \"ticks\": \"\"}}, \"type\": \"scatterternary\"}], \"surface\": [{\"colorbar\": {\"outlinewidth\": 0, \"ticks\": \"\"}, \"colorscale\": [[0.0, \"#0d0887\"], [0.1111111111111111, \"#46039f\"], [0.2222222222222222, \"#7201a8\"], [0.3333333333333333, \"#9c179e\"], [0.4444444444444444, \"#bd3786\"], [0.5555555555555556, \"#d8576b\"], [0.6666666666666666, \"#ed7953\"], [0.7777777777777778, \"#fb9f3a\"], [0.8888888888888888, \"#fdca26\"], [1.0, \"#f0f921\"]], \"type\": \"surface\"}], \"table\": [{\"cells\": {\"fill\": {\"color\": \"#EBF0F8\"}, \"line\": {\"color\": \"white\"}}, \"header\": {\"fill\": {\"color\": \"#C8D4E3\"}, \"line\": {\"color\": \"white\"}}, \"type\": \"table\"}]}, \"layout\": {\"annotationdefaults\": {\"arrowcolor\": \"#2a3f5f\", \"arrowhead\": 0, \"arrowwidth\": 1}, \"coloraxis\": {\"colorbar\": {\"outlinewidth\": 0, \"ticks\": \"\"}}, \"colorscale\": {\"diverging\": [[0, \"#8e0152\"], [0.1, \"#c51b7d\"], [0.2, \"#de77ae\"], [0.3, \"#f1b6da\"], [0.4, \"#fde0ef\"], [0.5, \"#f7f7f7\"], [0.6, \"#e6f5d0\"], [0.7, \"#b8e186\"], [0.8, \"#7fbc41\"], [0.9, \"#4d9221\"], [1, \"#276419\"]], \"sequential\": [[0.0, \"#0d0887\"], [0.1111111111111111, \"#46039f\"], [0.2222222222222222, \"#7201a8\"], [0.3333333333333333, \"#9c179e\"], [0.4444444444444444, \"#bd3786\"], [0.5555555555555556, \"#d8576b\"], [0.6666666666666666, \"#ed7953\"], [0.7777777777777778, \"#fb9f3a\"], [0.8888888888888888, \"#fdca26\"], [1.0, \"#f0f921\"]], \"sequentialminus\": [[0.0, \"#0d0887\"], [0.1111111111111111, \"#46039f\"], [0.2222222222222222, \"#7201a8\"], [0.3333333333333333, \"#9c179e\"], [0.4444444444444444, \"#bd3786\"], [0.5555555555555556, \"#d8576b\"], [0.6666666666666666, \"#ed7953\"], [0.7777777777777778, \"#fb9f3a\"], [0.8888888888888888, \"#fdca26\"], [1.0, \"#f0f921\"]]}, \"colorway\": [\"#636efa\", \"#EF553B\", \"#00cc96\", \"#ab63fa\", \"#FFA15A\", \"#19d3f3\", \"#FF6692\", \"#B6E880\", \"#FF97FF\", \"#FECB52\"], \"font\": {\"color\": \"#2a3f5f\"}, \"geo\": {\"bgcolor\": \"white\", \"lakecolor\": \"white\", \"landcolor\": \"#E5ECF6\", \"showlakes\": true, \"showland\": true, \"subunitcolor\": \"white\"}, \"hoverlabel\": {\"align\": \"left\"}, \"hovermode\": \"closest\", \"mapbox\": {\"style\": \"light\"}, \"paper_bgcolor\": \"white\", \"plot_bgcolor\": \"#E5ECF6\", \"polar\": {\"angularaxis\": {\"gridcolor\": \"white\", \"linecolor\": \"white\", \"ticks\": \"\"}, \"bgcolor\": \"#E5ECF6\", \"radialaxis\": {\"gridcolor\": \"white\", \"linecolor\": \"white\", \"ticks\": \"\"}}, \"scene\": {\"xaxis\": {\"backgroundcolor\": \"#E5ECF6\", \"gridcolor\": \"white\", \"gridwidth\": 2, \"linecolor\": \"white\", \"showbackground\": true, \"ticks\": \"\", \"zerolinecolor\": \"white\"}, \"yaxis\": {\"backgroundcolor\": \"#E5ECF6\", \"gridcolor\": \"white\", \"gridwidth\": 2, \"linecolor\": \"white\", \"showbackground\": true, \"ticks\": \"\", \"zerolinecolor\": \"white\"}, \"zaxis\": {\"backgroundcolor\": \"#E5ECF6\", \"gridcolor\": \"white\", \"gridwidth\": 2, \"linecolor\": \"white\", \"showbackground\": true, \"ticks\": \"\", \"zerolinecolor\": \"white\"}}, \"shapedefaults\": {\"line\": {\"color\": \"#2a3f5f\"}}, \"ternary\": {\"aaxis\": {\"gridcolor\": \"white\", \"linecolor\": \"white\", \"ticks\": \"\"}, \"baxis\": {\"gridcolor\": \"white\", \"linecolor\": \"white\", \"ticks\": \"\"}, \"bgcolor\": \"#E5ECF6\", \"caxis\": {\"gridcolor\": \"white\", \"linecolor\": \"white\", \"ticks\": \"\"}}, \"title\": {\"x\": 0.05}, \"xaxis\": {\"automargin\": true, \"gridcolor\": \"white\", \"linecolor\": \"white\", \"ticks\": \"\", \"title\": {\"standoff\": 15}, \"zerolinecolor\": \"white\", \"zerolinewidth\": 2}, \"yaxis\": {\"automargin\": true, \"gridcolor\": \"white\", \"linecolor\": \"white\", \"ticks\": \"\", \"title\": {\"standoff\": 15}, \"zerolinecolor\": \"white\", \"zerolinewidth\": 2}}}, \"title\": {\"text\": \"Total Explained Variance: 100.00%\"}},                        {\"responsive\": true}                    ).then(function(){\n",
       "                            \n",
       "var gd = document.getElementById('d6ecc97c-b3d0-49c4-888d-ea814fa5ae1f');\n",
       "var x = new MutationObserver(function (mutations, observer) {{\n",
       "        var display = window.getComputedStyle(gd).display;\n",
       "        if (!display || display === 'none') {{\n",
       "            console.log([gd, 'removed!']);\n",
       "            Plotly.purge(gd);\n",
       "            observer.disconnect();\n",
       "        }}\n",
       "}});\n",
       "\n",
       "// Listen for the removal of the full notebook cells\n",
       "var notebookContainer = gd.closest('#notebook-container');\n",
       "if (notebookContainer) {{\n",
       "    x.observe(notebookContainer, {childList: true});\n",
       "}}\n",
       "\n",
       "// Listen for the clearing of the current output cell\n",
       "var outputEl = gd.closest('.output');\n",
       "if (outputEl) {{\n",
       "    x.observe(outputEl, {childList: true});\n",
       "}}\n",
       "\n",
       "                        })                };                });            </script>        </div>"
      ]
     },
     "metadata": {},
     "output_type": "display_data"
    }
   ],
   "source": [
    "X = df[['sepal_length', 'sepal_width', 'petal_length', 'petal_width']]\n",
    "\n",
    "pca = PCA(n_components=4)\n",
    "components = pca.fit_transform(X)\n",
    "\n",
    "total_var = pca.explained_variance_ratio_.sum() * 100\n",
    "\n",
    "fig = px.scatter_3d(\n",
    "    components, x=0, y=1, z=2, color=df['species'],\n",
    "    title=f'Total Explained Variance: {total_var:.2f}%',\n",
    "    labels={'0': 'PC 1', '1': 'PC 2', '2': 'PC 3'}\n",
    ")\n",
    "fig.show()"
   ]
  },
  {
   "cell_type": "markdown",
   "metadata": {},
   "source": [
    "# LinaerRegression risidual plot\n"
   ]
  },
  {
   "cell_type": "code",
   "execution_count": 10,
   "metadata": {},
   "outputs": [
    {
     "data": {
      "application/vnd.plotly.v1+json": {
       "config": {
        "plotlyServerURL": "https://plot.ly"
       },
       "data": [
        {
         "hovertemplate": "split=train<br>prediction=%{x}<br>residual=%{y}<extra></extra>",
         "legendgroup": "train",
         "marker": {
          "color": "#636efa",
          "symbol": "circle"
         },
         "mode": "markers",
         "name": "train",
         "orientation": "v",
         "showlegend": true,
         "type": "scatter",
         "x": [
          0.4343843724053562,
          0.515051033309524,
          0.2753337781729439,
          0.24701341233058116,
          0.3145257448370662,
          0.4735763390694794,
          0.1097060197416897,
          0.46928190244656,
          0.5651146007954069,
          0.257885013152342,
          0.44096153660419746,
          0.0705140530775672,
          0.7241651950278192,
          0.4669991748706377,
          0.4343843724053562,
          0.29707697981646475,
          0.7024219933842983,
          0.3428461106794283,
          0.5259226341312837,
          0.5891405300148496,
          0.5542429999736462,
          0.2753337781729439,
          0.3951924057412335,
          0.7024219933842983,
          0.23385908393289956,
          0.46928190244656,
          0.49760226828892207,
          0.7307423592266604,
          0.1446035497828937,
          0.48015350326831974,
          0.5390769625289662,
          0.053065288056965976,
          0.36029487570003016,
          0.29707697981646475,
          0.20124428146761741,
          0.4910251040900808,
          0.4518331374259581,
          1.9793922023954422,
          1.9510718365530806,
          1.2799719295822267,
          1.1993052686780594,
          1.4149965945951963,
          0.7896658184873069,
          1.8203416081630295,
          1.046831838644488,
          1.255946000362784,
          1.0794466411097694,
          1.802892843142428,
          1.319163896246349,
          1.8443675373824726,
          1.2625231645616248,
          1.1644077386368565,
          1.7811496414989072,
          1.6721626147523778,
          1.774572477300066,
          1.848661974005392,
          1.290843530403987,
          1.2342027987192628,
          1.2342027987192628,
          1.319163896246349,
          1.1469589736162547,
          1.8726879032248347,
          1.0336775102468054,
          1.1884336678562988,
          1.4041249937734357,
          1.364933027109313,
          1.170984902835697,
          1.107767006952132,
          1.1535361378150955,
          0.8920756810349946,
          1.1993052686780594,
          1.319163896246349,
          2.145019960826696,
          1.5980731180470518,
          1.70048298059474,
          2.5154674443533267,
          0.7438966876243429,
          2.0775076283202116,
          1.9444946723542393,
          1.6089447188688124,
          1.7637008764783058,
          1.922751470710718,
          1.3366126612669509,
          1.5348552221634864,
          1.70048298059474,
          2.2234038941549414,
          2.772633464510508,
          1.6961885439718205,
          1.9053027056901166,
          2.6810952027845802,
          1.6896113797729793,
          1.7113545814165005,
          2.1275711958060946,
          1.7179317456153418,
          2.2191094575320225,
          2.4588267126686025,
          2.3715828875655944,
          1.6438422489100157,
          2.5895569410586523,
          1.3692274637322324,
          1.3300354970681096,
          1.9510718365530806,
          1.802892843142428,
          1.9510718365530806,
          1.319163896246349,
          1.8312132089847901,
          1.7113545814165005,
          1.848661974005392,
          1.7811496414989072,
          1.70048298059474,
          1.2951379670269068,
          1.255946000362784
         ],
         "xaxis": "x",
         "y": [
          0.2343843724053562,
          0.31505103330952394,
          0.0753337781729439,
          0.04701341233058115,
          0.11452574483706618,
          0.07357633906947936,
          -0.1902939802583103,
          0.36928190244656,
          0.36511460079540686,
          0.05788501315234201,
          0.3409615366041975,
          -0.02948594692243281,
          0.5241651950278192,
          0.06699917487063767,
          0.13438437240535622,
          -0.002923020183535241,
          0.5024219933842984,
          -0.05715388932057175,
          0.025922634131283706,
          0.38914053001484955,
          0.3542429999736462,
          0.0753337781729439,
          0.19519240574123348,
          0.3024219933842983,
          0.13385908393289955,
          0.36928190244656,
          0.29760226828892206,
          0.5307423592266605,
          -0.05539645021710632,
          0.2801535032683197,
          0.2390769625289662,
          -0.14693471194303404,
          -0.23970512429996982,
          0.09707697981646474,
          0.001244281467617403,
          0.2910251040900808,
          0.2518331374259581,
          0.5793922023954423,
          0.4510718365530806,
          -0.020028070417773325,
          -0.10069473132194062,
          -0.18500340540480376,
          -0.21033418151269312,
          0.5203416081630294,
          0.04683183864448792,
          -0.24405399963721597,
          -0.22055335889023064,
          0.4028928431424281,
          0.319163896246349,
          0.3443675373824726,
          0.16252316456162474,
          -0.6355922613631435,
          0.2811496414989072,
          0.3721626147523778,
          0.37457247730006604,
          0.14866197400539205,
          0.2908435304039869,
          0.13420279871926266,
          0.23420279871926275,
          0.11916389624634904,
          -0.45304102638374544,
          0.5726879032248346,
          -0.2663224897531946,
          -0.11156633214370126,
          0.004124993773435781,
          0.164933027109313,
          -0.12901509716430315,
          -0.09223299304786803,
          -0.1464638621849046,
          -0.20792431896500552,
          -0.10069473132194062,
          -0.5808361037536509,
          0.045019960826695904,
          -0.20192688195294828,
          -0.4995170194052603,
          0.4154674443533266,
          -0.956103312375657,
          0.2775076283202116,
          -0.5555053276457607,
          -0.3910552811311876,
          -0.13629912352169415,
          -0.17724852928928203,
          -0.6633873387330491,
          -0.7651447778365135,
          -0.09951701940526014,
          0.023403894154941263,
          0.47263346451050836,
          0.1961885439718205,
          -0.3946972943098832,
          0.6810952027845802,
          -0.11038862022702078,
          -0.38864541858349955,
          0.3275711958060945,
          -0.3820682543846583,
          0.6191094575320224,
          0.5588267126686026,
          0.37158288756559443,
          0.14384224891001574,
          0.2895569410586525,
          -1.0307725362677675,
          -0.4699645029318904,
          -0.1489281634469195,
          -0.5971071568575719,
          -0.34892816344691924,
          -0.5808361037536509,
          -0.4687867910152097,
          -0.7886454185834995,
          -0.4513380259946078,
          -0.11885035850109271,
          -0.2995170194052601,
          -1.004862032973093,
          -0.544053999637216
         ],
         "yaxis": "y"
        },
        {
         "alignmentgroup": "True",
         "hovertemplate": "split=train<br>residual=%{y}<extra></extra>",
         "legendgroup": "train",
         "marker": {
          "color": "#636efa",
          "symbol": "circle"
         },
         "name": "train",
         "offsetgroup": "train",
         "scalegroup": "y",
         "showlegend": false,
         "type": "violin",
         "xaxis": "x2",
         "y": [
          0.2343843724053562,
          0.31505103330952394,
          0.0753337781729439,
          0.04701341233058115,
          0.11452574483706618,
          0.07357633906947936,
          -0.1902939802583103,
          0.36928190244656,
          0.36511460079540686,
          0.05788501315234201,
          0.3409615366041975,
          -0.02948594692243281,
          0.5241651950278192,
          0.06699917487063767,
          0.13438437240535622,
          -0.002923020183535241,
          0.5024219933842984,
          -0.05715388932057175,
          0.025922634131283706,
          0.38914053001484955,
          0.3542429999736462,
          0.0753337781729439,
          0.19519240574123348,
          0.3024219933842983,
          0.13385908393289955,
          0.36928190244656,
          0.29760226828892206,
          0.5307423592266605,
          -0.05539645021710632,
          0.2801535032683197,
          0.2390769625289662,
          -0.14693471194303404,
          -0.23970512429996982,
          0.09707697981646474,
          0.001244281467617403,
          0.2910251040900808,
          0.2518331374259581,
          0.5793922023954423,
          0.4510718365530806,
          -0.020028070417773325,
          -0.10069473132194062,
          -0.18500340540480376,
          -0.21033418151269312,
          0.5203416081630294,
          0.04683183864448792,
          -0.24405399963721597,
          -0.22055335889023064,
          0.4028928431424281,
          0.319163896246349,
          0.3443675373824726,
          0.16252316456162474,
          -0.6355922613631435,
          0.2811496414989072,
          0.3721626147523778,
          0.37457247730006604,
          0.14866197400539205,
          0.2908435304039869,
          0.13420279871926266,
          0.23420279871926275,
          0.11916389624634904,
          -0.45304102638374544,
          0.5726879032248346,
          -0.2663224897531946,
          -0.11156633214370126,
          0.004124993773435781,
          0.164933027109313,
          -0.12901509716430315,
          -0.09223299304786803,
          -0.1464638621849046,
          -0.20792431896500552,
          -0.10069473132194062,
          -0.5808361037536509,
          0.045019960826695904,
          -0.20192688195294828,
          -0.4995170194052603,
          0.4154674443533266,
          -0.956103312375657,
          0.2775076283202116,
          -0.5555053276457607,
          -0.3910552811311876,
          -0.13629912352169415,
          -0.17724852928928203,
          -0.6633873387330491,
          -0.7651447778365135,
          -0.09951701940526014,
          0.023403894154941263,
          0.47263346451050836,
          0.1961885439718205,
          -0.3946972943098832,
          0.6810952027845802,
          -0.11038862022702078,
          -0.38864541858349955,
          0.3275711958060945,
          -0.3820682543846583,
          0.6191094575320224,
          0.5588267126686026,
          0.37158288756559443,
          0.14384224891001574,
          0.2895569410586525,
          -1.0307725362677675,
          -0.4699645029318904,
          -0.1489281634469195,
          -0.5971071568575719,
          -0.34892816344691924,
          -0.5808361037536509,
          -0.4687867910152097,
          -0.7886454185834995,
          -0.4513380259946078,
          -0.11885035850109271,
          -0.2995170194052601,
          -1.004862032973093,
          -0.544053999637216
         ],
         "yaxis": "y2"
        },
        {
         "hovertemplate": "<b>OLS trendline</b><br>residual = -3.01842e-16 * prediction + 2.96638e-16<br>R<sup>2</sup>=0.000000<br><br>split=train<br>prediction=%{x}<br>residual=%{y} <b>(trend)</b><extra></extra>",
         "legendgroup": "train",
         "marker": {
          "color": "#636efa",
          "symbol": "circle"
         },
         "mode": "lines",
         "name": "train",
         "showlegend": false,
         "type": "scatter",
         "x": [
          0.053065288056965976,
          0.0705140530775672,
          0.1097060197416897,
          0.1446035497828937,
          0.20124428146761741,
          0.23385908393289956,
          0.24701341233058116,
          0.257885013152342,
          0.2753337781729439,
          0.2753337781729439,
          0.29707697981646475,
          0.29707697981646475,
          0.3145257448370662,
          0.3428461106794283,
          0.36029487570003016,
          0.3951924057412335,
          0.4343843724053562,
          0.4343843724053562,
          0.44096153660419746,
          0.4518331374259581,
          0.4669991748706377,
          0.46928190244656,
          0.46928190244656,
          0.4735763390694794,
          0.48015350326831974,
          0.4910251040900808,
          0.49760226828892207,
          0.515051033309524,
          0.5259226341312837,
          0.5390769625289662,
          0.5542429999736462,
          0.5651146007954069,
          0.5891405300148496,
          0.7024219933842983,
          0.7024219933842983,
          0.7241651950278192,
          0.7307423592266604,
          0.7438966876243429,
          0.7896658184873069,
          0.8920756810349946,
          1.0336775102468054,
          1.046831838644488,
          1.0794466411097694,
          1.107767006952132,
          1.1469589736162547,
          1.1535361378150955,
          1.1644077386368565,
          1.170984902835697,
          1.1884336678562988,
          1.1993052686780594,
          1.1993052686780594,
          1.2342027987192628,
          1.2342027987192628,
          1.255946000362784,
          1.255946000362784,
          1.2625231645616248,
          1.2799719295822267,
          1.290843530403987,
          1.2951379670269068,
          1.319163896246349,
          1.319163896246349,
          1.319163896246349,
          1.319163896246349,
          1.3300354970681096,
          1.3366126612669509,
          1.364933027109313,
          1.3692274637322324,
          1.4041249937734357,
          1.4149965945951963,
          1.5348552221634864,
          1.5980731180470518,
          1.6089447188688124,
          1.6438422489100157,
          1.6721626147523778,
          1.6896113797729793,
          1.6961885439718205,
          1.70048298059474,
          1.70048298059474,
          1.70048298059474,
          1.7113545814165005,
          1.7113545814165005,
          1.7179317456153418,
          1.7637008764783058,
          1.774572477300066,
          1.7811496414989072,
          1.7811496414989072,
          1.802892843142428,
          1.802892843142428,
          1.8203416081630295,
          1.8312132089847901,
          1.8443675373824726,
          1.848661974005392,
          1.848661974005392,
          1.8726879032248347,
          1.9053027056901166,
          1.922751470710718,
          1.9444946723542393,
          1.9510718365530806,
          1.9510718365530806,
          1.9510718365530806,
          1.9793922023954422,
          2.0775076283202116,
          2.1275711958060946,
          2.145019960826696,
          2.2191094575320225,
          2.2234038941549414,
          2.3715828875655944,
          2.4588267126686025,
          2.5154674443533267,
          2.5895569410586523,
          2.6810952027845802,
          2.772633464510508
         ],
         "xaxis": "x",
         "y": [
          2.8062038782640505e-16,
          2.753536197048061e-16,
          2.635238426171062e-16,
          2.529903063739078e-16,
          2.3589376116460895e-16,
          2.2604924771545737e-16,
          2.2207872043836033e-16,
          2.1879721595530978e-16,
          2.1353044783371065e-16,
          2.1353044783371065e-16,
          2.0696743886760975e-16,
          2.0696743886760975e-16,
          2.0170067074601075e-16,
          1.9315239814136125e-16,
          1.878856300197621e-16,
          1.7735209377656396e-16,
          1.6552231668886396e-16,
          1.6552231668886396e-16,
          1.6353705305031531e-16,
          1.602555485672648e-16,
          1.5567780323971255e-16,
          1.5498878044566566e-16,
          1.5498878044566566e-16,
          1.5369253960116378e-16,
          1.5170727596261543e-16,
          1.4842577147956479e-16,
          1.4644050784101616e-16,
          1.4117373971941702e-16,
          1.3789223523636679e-16,
          1.3392170795926952e-16,
          1.2934396263171714e-16,
          1.2606245814866664e-16,
          1.18810426388519e-16,
          8.461733596992082e-17,
          8.461733596992082e-17,
          7.805432700381994e-17,
          7.60690633652713e-17,
          7.209853608817406e-17,
          5.828349536192538e-17,
          2.737190942637786e-17,
          -1.5369453596869862e-17,
          -1.9339980873967103e-17,
          -2.9184494323118484e-17,
          -3.7732766927768157e-17,
          -4.956254401546816e-17,
          -5.154780765401663e-17,
          -5.4829312137067305e-17,
          -5.681457577561563e-17,
          -6.208134389721478e-17,
          -6.53628483802653e-17,
          -6.53628483802653e-17,
          -7.589638462346345e-17,
          -7.589638462346345e-17,
          -8.245939358956445e-17,
          -8.245939358956445e-17,
          -8.444465722811297e-17,
          -8.971142534971207e-17,
          -9.299292983276245e-17,
          -9.428917067726445e-17,
          -1.0154120243741197e-16,
          -1.0154120243741197e-16,
          -1.0154120243741197e-16,
          -1.0154120243741197e-16,
          -1.048227069204625e-16,
          -1.0680797055901112e-16,
          -1.1535624316366064e-16,
          -1.166524840081625e-16,
          -1.2718602025136065e-16,
          -1.3046752473441117e-16,
          -1.66645878791558e-16,
          -1.857276876394056e-16,
          -1.8900919212245614e-16,
          -1.9954272836565423e-16,
          -2.0809100097030376e-16,
          -2.1335776909190276e-16,
          -2.1534303273045143e-16,
          -2.1663927357495328e-16,
          -2.1663927357495328e-16,
          -2.1663927357495328e-16,
          -2.199207780580038e-16,
          -2.199207780580038e-16,
          -2.2190604169655238e-16,
          -2.357210824228011e-16,
          -2.3900258690585143e-16,
          -2.409878505444001e-16,
          -2.409878505444001e-16,
          -2.4755085951050095e-16,
          -2.4755085951050095e-16,
          -2.5281762763209995e-16,
          -2.560991321151505e-16,
          -2.600696593922477e-16,
          -2.613659002367496e-16,
          -2.613659002367496e-16,
          -2.6861793199689724e-16,
          -2.784624454460487e-16,
          -2.837292135676477e-16,
          -2.9029222253374877e-16,
          -2.9227748617229744e-16,
          -2.9227748617229744e-16,
          -2.9227748617229744e-16,
          -3.0082575877694677e-16,
          -3.304411038679928e-16,
          -3.4555238543874316e-16,
          -3.5081915356034216e-16,
          -3.731824668912405e-16,
          -3.7447870773574217e-16,
          -4.1920533439753885e-16,
          -4.455391750055341e-16,
          -4.626357202148331e-16,
          -4.849990335457311e-16,
          -5.126291149982285e-16,
          -5.402591964507257e-16
         ],
         "yaxis": "y"
        },
        {
         "hovertemplate": "split=test<br>prediction=%{x}<br>residual=%{y}<extra></extra>",
         "legendgroup": "test",
         "marker": {
          "color": "#EF553B",
          "symbol": "circle"
         },
         "mode": "markers",
         "name": "test",
         "orientation": "v",
         "showlegend": true,
         "type": "scatter",
         "x": [
          0.40606400656299413,
          0.19037268064585744,
          0.4735763390694794,
          0.7416139600484211,
          0.01816775801576198,
          0.257885013152342,
          0.40606400656299413,
          0.5084738691106827,
          0.4103584431859135,
          0.46928190244656,
          0.36029487570003016,
          0.29707697981646475,
          0.44096153660419746,
          1.5348552221634864,
          1.7920212423206678,
          0.8746269160143931,
          1.6961885439718205,
          1.4498941246363992,
          1.0336775102468054,
          1.4956632554993632,
          1.4956632554993632,
          2.0142897324366453,
          1.3758046279310736,
          1.4673428896570015,
          0.8854985168361538,
          1.802892843142428,
          1.1426645369933348,
          0.9095244460555965,
          1.5239836213417257,
          1.4149965945951963,
          2.338968085100312,
          1.2733947653833855,
          1.1252157719727334,
          1.5697527522046897,
          1.4041249937734357,
          1.7179317456153418,
          1.5872015172252907,
          1.5806243530264503
         ],
         "xaxis": "x",
         "y": [
          0.20606400656299412,
          -0.009627319354142572,
          0.07357633906947936,
          0.4416139600484211,
          -0.18183224198423803,
          0.05788501315234201,
          0.0060640065629941065,
          0.3084738691106827,
          0.2103584431859135,
          0.36928190244656,
          0.06029487570003017,
          -0.10292302018353527,
          0.14096153660419747,
          0.034855222163486355,
          0.29202124232066784,
          -0.5253730839856068,
          0.6961885439718205,
          0.049894124636399306,
          -0.46632248975319457,
          0.19566325549936314,
          0.29566325549936323,
          0.6142897324366454,
          -0.12419537206892639,
          -0.13265711034299854,
          -0.6145014831638462,
          0.30289284314242804,
          -0.057335463006665144,
          -0.09047555394440354,
          0.22398362134172567,
          -1.0850034054048037,
          0.538968085100312,
          -1.1266052346166144,
          -0.8747842280272666,
          -0.23024724779531036,
          -0.39587500622656435,
          -0.4820682543846584,
          0.18720151722529077,
          -0.21937564697354972
         ],
         "yaxis": "y"
        },
        {
         "alignmentgroup": "True",
         "hovertemplate": "split=test<br>residual=%{y}<extra></extra>",
         "legendgroup": "test",
         "marker": {
          "color": "#EF553B",
          "symbol": "circle"
         },
         "name": "test",
         "offsetgroup": "test",
         "scalegroup": "y",
         "showlegend": false,
         "type": "violin",
         "xaxis": "x2",
         "y": [
          0.20606400656299412,
          -0.009627319354142572,
          0.07357633906947936,
          0.4416139600484211,
          -0.18183224198423803,
          0.05788501315234201,
          0.0060640065629941065,
          0.3084738691106827,
          0.2103584431859135,
          0.36928190244656,
          0.06029487570003017,
          -0.10292302018353527,
          0.14096153660419747,
          0.034855222163486355,
          0.29202124232066784,
          -0.5253730839856068,
          0.6961885439718205,
          0.049894124636399306,
          -0.46632248975319457,
          0.19566325549936314,
          0.29566325549936323,
          0.6142897324366454,
          -0.12419537206892639,
          -0.13265711034299854,
          -0.6145014831638462,
          0.30289284314242804,
          -0.057335463006665144,
          -0.09047555394440354,
          0.22398362134172567,
          -1.0850034054048037,
          0.538968085100312,
          -1.1266052346166144,
          -0.8747842280272666,
          -0.23024724779531036,
          -0.39587500622656435,
          -0.4820682543846584,
          0.18720151722529077,
          -0.21937564697354972
         ],
         "yaxis": "y2"
        },
        {
         "hovertemplate": "<b>OLS trendline</b><br>residual = 0.051022 * prediction + -0.0928883<br>R<sup>2</sup>=0.005124<br><br>split=test<br>prediction=%{x}<br>residual=%{y} <b>(trend)</b><extra></extra>",
         "legendgroup": "test",
         "marker": {
          "color": "#EF553B",
          "symbol": "circle"
         },
         "mode": "lines",
         "name": "test",
         "showlegend": false,
         "type": "scatter",
         "x": [
          0.01816775801576198,
          0.19037268064585744,
          0.257885013152342,
          0.29707697981646475,
          0.36029487570003016,
          0.40606400656299413,
          0.40606400656299413,
          0.4103584431859135,
          0.44096153660419746,
          0.46928190244656,
          0.4735763390694794,
          0.5084738691106827,
          0.7416139600484211,
          0.8746269160143931,
          0.8854985168361538,
          0.9095244460555965,
          1.0336775102468054,
          1.1252157719727334,
          1.1426645369933348,
          1.2733947653833855,
          1.3758046279310736,
          1.4041249937734357,
          1.4149965945951963,
          1.4498941246363992,
          1.4673428896570015,
          1.4956632554993632,
          1.4956632554993632,
          1.5239836213417257,
          1.5348552221634864,
          1.5697527522046897,
          1.5806243530264503,
          1.5872015172252907,
          1.6961885439718205,
          1.7179317456153418,
          1.7920212423206678,
          1.802892843142428,
          2.0142897324366453,
          2.338968085100312
         ],
         "xaxis": "x",
         "y": [
          -0.09196137547108042,
          -0.08317513406433152,
          -0.079730519112128,
          -0.07773086616924485,
          -0.07450536200840938,
          -0.07217012892333144,
          -0.07217012892333144,
          -0.07195101813196339,
          -0.07038958677181632,
          -0.06894462476249594,
          -0.0687255139711279,
          -0.06694497181961279,
          -0.05504969560285514,
          -0.04826310713898943,
          -0.047708416205426624,
          -0.04648256498747431,
          -0.040148026016630076,
          -0.03547755984647422,
          -0.03458728877071667,
          -0.027917169657677654,
          -0.022692012553959015,
          -0.021247050544638657,
          -0.02069235961107585,
          -0.018911817459560762,
          -0.018021546383803155,
          -0.016576584374482825,
          -0.016576584374482825,
          -0.015131622365162453,
          -0.014576931431599646,
          -0.012796389280084516,
          -0.01224169834652171,
          -0.011906118204326993,
          -0.006345380958413568,
          -0.0052359990912879545,
          -0.0014558039968896735,
          -0.0009011130633268805,
          0.009884781286305142,
          0.02645052367321865
         ],
         "yaxis": "y"
        }
       ],
       "layout": {
        "legend": {
         "title": {
          "text": "split"
         },
         "tracegroupgap": 0
        },
        "margin": {
         "t": 60
        },
        "template": {
         "data": {
          "bar": [
           {
            "error_x": {
             "color": "#2a3f5f"
            },
            "error_y": {
             "color": "#2a3f5f"
            },
            "marker": {
             "line": {
              "color": "#E5ECF6",
              "width": 0.5
             }
            },
            "type": "bar"
           }
          ],
          "barpolar": [
           {
            "marker": {
             "line": {
              "color": "#E5ECF6",
              "width": 0.5
             }
            },
            "type": "barpolar"
           }
          ],
          "carpet": [
           {
            "aaxis": {
             "endlinecolor": "#2a3f5f",
             "gridcolor": "white",
             "linecolor": "white",
             "minorgridcolor": "white",
             "startlinecolor": "#2a3f5f"
            },
            "baxis": {
             "endlinecolor": "#2a3f5f",
             "gridcolor": "white",
             "linecolor": "white",
             "minorgridcolor": "white",
             "startlinecolor": "#2a3f5f"
            },
            "type": "carpet"
           }
          ],
          "choropleth": [
           {
            "colorbar": {
             "outlinewidth": 0,
             "ticks": ""
            },
            "type": "choropleth"
           }
          ],
          "contour": [
           {
            "colorbar": {
             "outlinewidth": 0,
             "ticks": ""
            },
            "colorscale": [
             [
              0,
              "#0d0887"
             ],
             [
              0.1111111111111111,
              "#46039f"
             ],
             [
              0.2222222222222222,
              "#7201a8"
             ],
             [
              0.3333333333333333,
              "#9c179e"
             ],
             [
              0.4444444444444444,
              "#bd3786"
             ],
             [
              0.5555555555555556,
              "#d8576b"
             ],
             [
              0.6666666666666666,
              "#ed7953"
             ],
             [
              0.7777777777777778,
              "#fb9f3a"
             ],
             [
              0.8888888888888888,
              "#fdca26"
             ],
             [
              1,
              "#f0f921"
             ]
            ],
            "type": "contour"
           }
          ],
          "contourcarpet": [
           {
            "colorbar": {
             "outlinewidth": 0,
             "ticks": ""
            },
            "type": "contourcarpet"
           }
          ],
          "heatmap": [
           {
            "colorbar": {
             "outlinewidth": 0,
             "ticks": ""
            },
            "colorscale": [
             [
              0,
              "#0d0887"
             ],
             [
              0.1111111111111111,
              "#46039f"
             ],
             [
              0.2222222222222222,
              "#7201a8"
             ],
             [
              0.3333333333333333,
              "#9c179e"
             ],
             [
              0.4444444444444444,
              "#bd3786"
             ],
             [
              0.5555555555555556,
              "#d8576b"
             ],
             [
              0.6666666666666666,
              "#ed7953"
             ],
             [
              0.7777777777777778,
              "#fb9f3a"
             ],
             [
              0.8888888888888888,
              "#fdca26"
             ],
             [
              1,
              "#f0f921"
             ]
            ],
            "type": "heatmap"
           }
          ],
          "heatmapgl": [
           {
            "colorbar": {
             "outlinewidth": 0,
             "ticks": ""
            },
            "colorscale": [
             [
              0,
              "#0d0887"
             ],
             [
              0.1111111111111111,
              "#46039f"
             ],
             [
              0.2222222222222222,
              "#7201a8"
             ],
             [
              0.3333333333333333,
              "#9c179e"
             ],
             [
              0.4444444444444444,
              "#bd3786"
             ],
             [
              0.5555555555555556,
              "#d8576b"
             ],
             [
              0.6666666666666666,
              "#ed7953"
             ],
             [
              0.7777777777777778,
              "#fb9f3a"
             ],
             [
              0.8888888888888888,
              "#fdca26"
             ],
             [
              1,
              "#f0f921"
             ]
            ],
            "type": "heatmapgl"
           }
          ],
          "histogram": [
           {
            "marker": {
             "colorbar": {
              "outlinewidth": 0,
              "ticks": ""
             }
            },
            "type": "histogram"
           }
          ],
          "histogram2d": [
           {
            "colorbar": {
             "outlinewidth": 0,
             "ticks": ""
            },
            "colorscale": [
             [
              0,
              "#0d0887"
             ],
             [
              0.1111111111111111,
              "#46039f"
             ],
             [
              0.2222222222222222,
              "#7201a8"
             ],
             [
              0.3333333333333333,
              "#9c179e"
             ],
             [
              0.4444444444444444,
              "#bd3786"
             ],
             [
              0.5555555555555556,
              "#d8576b"
             ],
             [
              0.6666666666666666,
              "#ed7953"
             ],
             [
              0.7777777777777778,
              "#fb9f3a"
             ],
             [
              0.8888888888888888,
              "#fdca26"
             ],
             [
              1,
              "#f0f921"
             ]
            ],
            "type": "histogram2d"
           }
          ],
          "histogram2dcontour": [
           {
            "colorbar": {
             "outlinewidth": 0,
             "ticks": ""
            },
            "colorscale": [
             [
              0,
              "#0d0887"
             ],
             [
              0.1111111111111111,
              "#46039f"
             ],
             [
              0.2222222222222222,
              "#7201a8"
             ],
             [
              0.3333333333333333,
              "#9c179e"
             ],
             [
              0.4444444444444444,
              "#bd3786"
             ],
             [
              0.5555555555555556,
              "#d8576b"
             ],
             [
              0.6666666666666666,
              "#ed7953"
             ],
             [
              0.7777777777777778,
              "#fb9f3a"
             ],
             [
              0.8888888888888888,
              "#fdca26"
             ],
             [
              1,
              "#f0f921"
             ]
            ],
            "type": "histogram2dcontour"
           }
          ],
          "mesh3d": [
           {
            "colorbar": {
             "outlinewidth": 0,
             "ticks": ""
            },
            "type": "mesh3d"
           }
          ],
          "parcoords": [
           {
            "line": {
             "colorbar": {
              "outlinewidth": 0,
              "ticks": ""
             }
            },
            "type": "parcoords"
           }
          ],
          "pie": [
           {
            "automargin": true,
            "type": "pie"
           }
          ],
          "scatter": [
           {
            "marker": {
             "colorbar": {
              "outlinewidth": 0,
              "ticks": ""
             }
            },
            "type": "scatter"
           }
          ],
          "scatter3d": [
           {
            "line": {
             "colorbar": {
              "outlinewidth": 0,
              "ticks": ""
             }
            },
            "marker": {
             "colorbar": {
              "outlinewidth": 0,
              "ticks": ""
             }
            },
            "type": "scatter3d"
           }
          ],
          "scattercarpet": [
           {
            "marker": {
             "colorbar": {
              "outlinewidth": 0,
              "ticks": ""
             }
            },
            "type": "scattercarpet"
           }
          ],
          "scattergeo": [
           {
            "marker": {
             "colorbar": {
              "outlinewidth": 0,
              "ticks": ""
             }
            },
            "type": "scattergeo"
           }
          ],
          "scattergl": [
           {
            "marker": {
             "colorbar": {
              "outlinewidth": 0,
              "ticks": ""
             }
            },
            "type": "scattergl"
           }
          ],
          "scattermapbox": [
           {
            "marker": {
             "colorbar": {
              "outlinewidth": 0,
              "ticks": ""
             }
            },
            "type": "scattermapbox"
           }
          ],
          "scatterpolar": [
           {
            "marker": {
             "colorbar": {
              "outlinewidth": 0,
              "ticks": ""
             }
            },
            "type": "scatterpolar"
           }
          ],
          "scatterpolargl": [
           {
            "marker": {
             "colorbar": {
              "outlinewidth": 0,
              "ticks": ""
             }
            },
            "type": "scatterpolargl"
           }
          ],
          "scatterternary": [
           {
            "marker": {
             "colorbar": {
              "outlinewidth": 0,
              "ticks": ""
             }
            },
            "type": "scatterternary"
           }
          ],
          "surface": [
           {
            "colorbar": {
             "outlinewidth": 0,
             "ticks": ""
            },
            "colorscale": [
             [
              0,
              "#0d0887"
             ],
             [
              0.1111111111111111,
              "#46039f"
             ],
             [
              0.2222222222222222,
              "#7201a8"
             ],
             [
              0.3333333333333333,
              "#9c179e"
             ],
             [
              0.4444444444444444,
              "#bd3786"
             ],
             [
              0.5555555555555556,
              "#d8576b"
             ],
             [
              0.6666666666666666,
              "#ed7953"
             ],
             [
              0.7777777777777778,
              "#fb9f3a"
             ],
             [
              0.8888888888888888,
              "#fdca26"
             ],
             [
              1,
              "#f0f921"
             ]
            ],
            "type": "surface"
           }
          ],
          "table": [
           {
            "cells": {
             "fill": {
              "color": "#EBF0F8"
             },
             "line": {
              "color": "white"
             }
            },
            "header": {
             "fill": {
              "color": "#C8D4E3"
             },
             "line": {
              "color": "white"
             }
            },
            "type": "table"
           }
          ]
         },
         "layout": {
          "annotationdefaults": {
           "arrowcolor": "#2a3f5f",
           "arrowhead": 0,
           "arrowwidth": 1
          },
          "coloraxis": {
           "colorbar": {
            "outlinewidth": 0,
            "ticks": ""
           }
          },
          "colorscale": {
           "diverging": [
            [
             0,
             "#8e0152"
            ],
            [
             0.1,
             "#c51b7d"
            ],
            [
             0.2,
             "#de77ae"
            ],
            [
             0.3,
             "#f1b6da"
            ],
            [
             0.4,
             "#fde0ef"
            ],
            [
             0.5,
             "#f7f7f7"
            ],
            [
             0.6,
             "#e6f5d0"
            ],
            [
             0.7,
             "#b8e186"
            ],
            [
             0.8,
             "#7fbc41"
            ],
            [
             0.9,
             "#4d9221"
            ],
            [
             1,
             "#276419"
            ]
           ],
           "sequential": [
            [
             0,
             "#0d0887"
            ],
            [
             0.1111111111111111,
             "#46039f"
            ],
            [
             0.2222222222222222,
             "#7201a8"
            ],
            [
             0.3333333333333333,
             "#9c179e"
            ],
            [
             0.4444444444444444,
             "#bd3786"
            ],
            [
             0.5555555555555556,
             "#d8576b"
            ],
            [
             0.6666666666666666,
             "#ed7953"
            ],
            [
             0.7777777777777778,
             "#fb9f3a"
            ],
            [
             0.8888888888888888,
             "#fdca26"
            ],
            [
             1,
             "#f0f921"
            ]
           ],
           "sequentialminus": [
            [
             0,
             "#0d0887"
            ],
            [
             0.1111111111111111,
             "#46039f"
            ],
            [
             0.2222222222222222,
             "#7201a8"
            ],
            [
             0.3333333333333333,
             "#9c179e"
            ],
            [
             0.4444444444444444,
             "#bd3786"
            ],
            [
             0.5555555555555556,
             "#d8576b"
            ],
            [
             0.6666666666666666,
             "#ed7953"
            ],
            [
             0.7777777777777778,
             "#fb9f3a"
            ],
            [
             0.8888888888888888,
             "#fdca26"
            ],
            [
             1,
             "#f0f921"
            ]
           ]
          },
          "colorway": [
           "#636efa",
           "#EF553B",
           "#00cc96",
           "#ab63fa",
           "#FFA15A",
           "#19d3f3",
           "#FF6692",
           "#B6E880",
           "#FF97FF",
           "#FECB52"
          ],
          "font": {
           "color": "#2a3f5f"
          },
          "geo": {
           "bgcolor": "white",
           "lakecolor": "white",
           "landcolor": "#E5ECF6",
           "showlakes": true,
           "showland": true,
           "subunitcolor": "white"
          },
          "hoverlabel": {
           "align": "left"
          },
          "hovermode": "closest",
          "mapbox": {
           "style": "light"
          },
          "paper_bgcolor": "white",
          "plot_bgcolor": "#E5ECF6",
          "polar": {
           "angularaxis": {
            "gridcolor": "white",
            "linecolor": "white",
            "ticks": ""
           },
           "bgcolor": "#E5ECF6",
           "radialaxis": {
            "gridcolor": "white",
            "linecolor": "white",
            "ticks": ""
           }
          },
          "scene": {
           "xaxis": {
            "backgroundcolor": "#E5ECF6",
            "gridcolor": "white",
            "gridwidth": 2,
            "linecolor": "white",
            "showbackground": true,
            "ticks": "",
            "zerolinecolor": "white"
           },
           "yaxis": {
            "backgroundcolor": "#E5ECF6",
            "gridcolor": "white",
            "gridwidth": 2,
            "linecolor": "white",
            "showbackground": true,
            "ticks": "",
            "zerolinecolor": "white"
           },
           "zaxis": {
            "backgroundcolor": "#E5ECF6",
            "gridcolor": "white",
            "gridwidth": 2,
            "linecolor": "white",
            "showbackground": true,
            "ticks": "",
            "zerolinecolor": "white"
           }
          },
          "shapedefaults": {
           "line": {
            "color": "#2a3f5f"
           }
          },
          "ternary": {
           "aaxis": {
            "gridcolor": "white",
            "linecolor": "white",
            "ticks": ""
           },
           "baxis": {
            "gridcolor": "white",
            "linecolor": "white",
            "ticks": ""
           },
           "bgcolor": "#E5ECF6",
           "caxis": {
            "gridcolor": "white",
            "linecolor": "white",
            "ticks": ""
           }
          },
          "title": {
           "x": 0.05
          },
          "xaxis": {
           "automargin": true,
           "gridcolor": "white",
           "linecolor": "white",
           "ticks": "",
           "title": {
            "standoff": 15
           },
           "zerolinecolor": "white",
           "zerolinewidth": 2
          },
          "yaxis": {
           "automargin": true,
           "gridcolor": "white",
           "linecolor": "white",
           "ticks": "",
           "title": {
            "standoff": 15
           },
           "zerolinecolor": "white",
           "zerolinewidth": 2
          }
         }
        },
        "xaxis": {
         "anchor": "y",
         "domain": [
          0,
          0.7363
         ],
         "title": {
          "text": "prediction"
         }
        },
        "xaxis2": {
         "anchor": "y2",
         "domain": [
          0.7413,
          1
         ],
         "matches": "x2",
         "showgrid": false,
         "showline": false,
         "showticklabels": false,
         "ticks": ""
        },
        "yaxis": {
         "anchor": "x",
         "domain": [
          0,
          1
         ],
         "title": {
          "text": "residual"
         }
        },
        "yaxis2": {
         "anchor": "x2",
         "domain": [
          0,
          1
         ],
         "matches": "y",
         "showgrid": true,
         "showticklabels": false
        }
       }
      },
      "text/html": [
       "<div>                            <div id=\"10c9a7d4-736c-47d5-8ddb-4c045233b16d\" class=\"plotly-graph-div\" style=\"height:525px; width:100%;\"></div>            <script type=\"text/javascript\">                require([\"plotly\"], function(Plotly) {                    window.PLOTLYENV=window.PLOTLYENV || {};                                    if (document.getElementById(\"10c9a7d4-736c-47d5-8ddb-4c045233b16d\")) {                    Plotly.newPlot(                        \"10c9a7d4-736c-47d5-8ddb-4c045233b16d\",                        [{\"hovertemplate\": \"split=train<br>prediction=%{x}<br>residual=%{y}<extra></extra>\", \"legendgroup\": \"train\", \"marker\": {\"color\": \"#636efa\", \"symbol\": \"circle\"}, \"mode\": \"markers\", \"name\": \"train\", \"orientation\": \"v\", \"showlegend\": true, \"type\": \"scatter\", \"x\": [0.4343843724053562, 0.515051033309524, 0.2753337781729439, 0.24701341233058116, 0.3145257448370662, 0.4735763390694794, 0.1097060197416897, 0.46928190244656, 0.5651146007954069, 0.257885013152342, 0.44096153660419746, 0.0705140530775672, 0.7241651950278192, 0.4669991748706377, 0.4343843724053562, 0.29707697981646475, 0.7024219933842983, 0.3428461106794283, 0.5259226341312837, 0.5891405300148496, 0.5542429999736462, 0.2753337781729439, 0.3951924057412335, 0.7024219933842983, 0.23385908393289956, 0.46928190244656, 0.49760226828892207, 0.7307423592266604, 0.1446035497828937, 0.48015350326831974, 0.5390769625289662, 0.053065288056965976, 0.36029487570003016, 0.29707697981646475, 0.20124428146761741, 0.4910251040900808, 0.4518331374259581, 1.9793922023954422, 1.9510718365530806, 1.2799719295822267, 1.1993052686780594, 1.4149965945951963, 0.7896658184873069, 1.8203416081630295, 1.046831838644488, 1.255946000362784, 1.0794466411097694, 1.802892843142428, 1.319163896246349, 1.8443675373824726, 1.2625231645616248, 1.1644077386368565, 1.7811496414989072, 1.6721626147523778, 1.774572477300066, 1.848661974005392, 1.290843530403987, 1.2342027987192628, 1.2342027987192628, 1.319163896246349, 1.1469589736162547, 1.8726879032248347, 1.0336775102468054, 1.1884336678562988, 1.4041249937734357, 1.364933027109313, 1.170984902835697, 1.107767006952132, 1.1535361378150955, 0.8920756810349946, 1.1993052686780594, 1.319163896246349, 2.145019960826696, 1.5980731180470518, 1.70048298059474, 2.5154674443533267, 0.7438966876243429, 2.0775076283202116, 1.9444946723542393, 1.6089447188688124, 1.7637008764783058, 1.922751470710718, 1.3366126612669509, 1.5348552221634864, 1.70048298059474, 2.2234038941549414, 2.772633464510508, 1.6961885439718205, 1.9053027056901166, 2.6810952027845802, 1.6896113797729793, 1.7113545814165005, 2.1275711958060946, 1.7179317456153418, 2.2191094575320225, 2.4588267126686025, 2.3715828875655944, 1.6438422489100157, 2.5895569410586523, 1.3692274637322324, 1.3300354970681096, 1.9510718365530806, 1.802892843142428, 1.9510718365530806, 1.319163896246349, 1.8312132089847901, 1.7113545814165005, 1.848661974005392, 1.7811496414989072, 1.70048298059474, 1.2951379670269068, 1.255946000362784], \"xaxis\": \"x\", \"y\": [0.2343843724053562, 0.31505103330952394, 0.0753337781729439, 0.04701341233058115, 0.11452574483706618, 0.07357633906947936, -0.1902939802583103, 0.36928190244656, 0.36511460079540686, 0.05788501315234201, 0.3409615366041975, -0.02948594692243281, 0.5241651950278192, 0.06699917487063767, 0.13438437240535622, -0.002923020183535241, 0.5024219933842984, -0.05715388932057175, 0.025922634131283706, 0.38914053001484955, 0.3542429999736462, 0.0753337781729439, 0.19519240574123348, 0.3024219933842983, 0.13385908393289955, 0.36928190244656, 0.29760226828892206, 0.5307423592266605, -0.05539645021710632, 0.2801535032683197, 0.2390769625289662, -0.14693471194303404, -0.23970512429996982, 0.09707697981646474, 0.001244281467617403, 0.2910251040900808, 0.2518331374259581, 0.5793922023954423, 0.4510718365530806, -0.020028070417773325, -0.10069473132194062, -0.18500340540480376, -0.21033418151269312, 0.5203416081630294, 0.04683183864448792, -0.24405399963721597, -0.22055335889023064, 0.4028928431424281, 0.319163896246349, 0.3443675373824726, 0.16252316456162474, -0.6355922613631435, 0.2811496414989072, 0.3721626147523778, 0.37457247730006604, 0.14866197400539205, 0.2908435304039869, 0.13420279871926266, 0.23420279871926275, 0.11916389624634904, -0.45304102638374544, 0.5726879032248346, -0.2663224897531946, -0.11156633214370126, 0.004124993773435781, 0.164933027109313, -0.12901509716430315, -0.09223299304786803, -0.1464638621849046, -0.20792431896500552, -0.10069473132194062, -0.5808361037536509, 0.045019960826695904, -0.20192688195294828, -0.4995170194052603, 0.4154674443533266, -0.956103312375657, 0.2775076283202116, -0.5555053276457607, -0.3910552811311876, -0.13629912352169415, -0.17724852928928203, -0.6633873387330491, -0.7651447778365135, -0.09951701940526014, 0.023403894154941263, 0.47263346451050836, 0.1961885439718205, -0.3946972943098832, 0.6810952027845802, -0.11038862022702078, -0.38864541858349955, 0.3275711958060945, -0.3820682543846583, 0.6191094575320224, 0.5588267126686026, 0.37158288756559443, 0.14384224891001574, 0.2895569410586525, -1.0307725362677675, -0.4699645029318904, -0.1489281634469195, -0.5971071568575719, -0.34892816344691924, -0.5808361037536509, -0.4687867910152097, -0.7886454185834995, -0.4513380259946078, -0.11885035850109271, -0.2995170194052601, -1.004862032973093, -0.544053999637216], \"yaxis\": \"y\"}, {\"alignmentgroup\": \"True\", \"hovertemplate\": \"split=train<br>residual=%{y}<extra></extra>\", \"legendgroup\": \"train\", \"marker\": {\"color\": \"#636efa\", \"symbol\": \"circle\"}, \"name\": \"train\", \"offsetgroup\": \"train\", \"scalegroup\": \"y\", \"showlegend\": false, \"type\": \"violin\", \"xaxis\": \"x2\", \"y\": [0.2343843724053562, 0.31505103330952394, 0.0753337781729439, 0.04701341233058115, 0.11452574483706618, 0.07357633906947936, -0.1902939802583103, 0.36928190244656, 0.36511460079540686, 0.05788501315234201, 0.3409615366041975, -0.02948594692243281, 0.5241651950278192, 0.06699917487063767, 0.13438437240535622, -0.002923020183535241, 0.5024219933842984, -0.05715388932057175, 0.025922634131283706, 0.38914053001484955, 0.3542429999736462, 0.0753337781729439, 0.19519240574123348, 0.3024219933842983, 0.13385908393289955, 0.36928190244656, 0.29760226828892206, 0.5307423592266605, -0.05539645021710632, 0.2801535032683197, 0.2390769625289662, -0.14693471194303404, -0.23970512429996982, 0.09707697981646474, 0.001244281467617403, 0.2910251040900808, 0.2518331374259581, 0.5793922023954423, 0.4510718365530806, -0.020028070417773325, -0.10069473132194062, -0.18500340540480376, -0.21033418151269312, 0.5203416081630294, 0.04683183864448792, -0.24405399963721597, -0.22055335889023064, 0.4028928431424281, 0.319163896246349, 0.3443675373824726, 0.16252316456162474, -0.6355922613631435, 0.2811496414989072, 0.3721626147523778, 0.37457247730006604, 0.14866197400539205, 0.2908435304039869, 0.13420279871926266, 0.23420279871926275, 0.11916389624634904, -0.45304102638374544, 0.5726879032248346, -0.2663224897531946, -0.11156633214370126, 0.004124993773435781, 0.164933027109313, -0.12901509716430315, -0.09223299304786803, -0.1464638621849046, -0.20792431896500552, -0.10069473132194062, -0.5808361037536509, 0.045019960826695904, -0.20192688195294828, -0.4995170194052603, 0.4154674443533266, -0.956103312375657, 0.2775076283202116, -0.5555053276457607, -0.3910552811311876, -0.13629912352169415, -0.17724852928928203, -0.6633873387330491, -0.7651447778365135, -0.09951701940526014, 0.023403894154941263, 0.47263346451050836, 0.1961885439718205, -0.3946972943098832, 0.6810952027845802, -0.11038862022702078, -0.38864541858349955, 0.3275711958060945, -0.3820682543846583, 0.6191094575320224, 0.5588267126686026, 0.37158288756559443, 0.14384224891001574, 0.2895569410586525, -1.0307725362677675, -0.4699645029318904, -0.1489281634469195, -0.5971071568575719, -0.34892816344691924, -0.5808361037536509, -0.4687867910152097, -0.7886454185834995, -0.4513380259946078, -0.11885035850109271, -0.2995170194052601, -1.004862032973093, -0.544053999637216], \"yaxis\": \"y2\"}, {\"hovertemplate\": \"<b>OLS trendline</b><br>residual = -3.01842e-16 * prediction + 2.96638e-16<br>R<sup>2</sup>=0.000000<br><br>split=train<br>prediction=%{x}<br>residual=%{y} <b>(trend)</b><extra></extra>\", \"legendgroup\": \"train\", \"marker\": {\"color\": \"#636efa\", \"symbol\": \"circle\"}, \"mode\": \"lines\", \"name\": \"train\", \"showlegend\": false, \"type\": \"scatter\", \"x\": [0.053065288056965976, 0.0705140530775672, 0.1097060197416897, 0.1446035497828937, 0.20124428146761741, 0.23385908393289956, 0.24701341233058116, 0.257885013152342, 0.2753337781729439, 0.2753337781729439, 0.29707697981646475, 0.29707697981646475, 0.3145257448370662, 0.3428461106794283, 0.36029487570003016, 0.3951924057412335, 0.4343843724053562, 0.4343843724053562, 0.44096153660419746, 0.4518331374259581, 0.4669991748706377, 0.46928190244656, 0.46928190244656, 0.4735763390694794, 0.48015350326831974, 0.4910251040900808, 0.49760226828892207, 0.515051033309524, 0.5259226341312837, 0.5390769625289662, 0.5542429999736462, 0.5651146007954069, 0.5891405300148496, 0.7024219933842983, 0.7024219933842983, 0.7241651950278192, 0.7307423592266604, 0.7438966876243429, 0.7896658184873069, 0.8920756810349946, 1.0336775102468054, 1.046831838644488, 1.0794466411097694, 1.107767006952132, 1.1469589736162547, 1.1535361378150955, 1.1644077386368565, 1.170984902835697, 1.1884336678562988, 1.1993052686780594, 1.1993052686780594, 1.2342027987192628, 1.2342027987192628, 1.255946000362784, 1.255946000362784, 1.2625231645616248, 1.2799719295822267, 1.290843530403987, 1.2951379670269068, 1.319163896246349, 1.319163896246349, 1.319163896246349, 1.319163896246349, 1.3300354970681096, 1.3366126612669509, 1.364933027109313, 1.3692274637322324, 1.4041249937734357, 1.4149965945951963, 1.5348552221634864, 1.5980731180470518, 1.6089447188688124, 1.6438422489100157, 1.6721626147523778, 1.6896113797729793, 1.6961885439718205, 1.70048298059474, 1.70048298059474, 1.70048298059474, 1.7113545814165005, 1.7113545814165005, 1.7179317456153418, 1.7637008764783058, 1.774572477300066, 1.7811496414989072, 1.7811496414989072, 1.802892843142428, 1.802892843142428, 1.8203416081630295, 1.8312132089847901, 1.8443675373824726, 1.848661974005392, 1.848661974005392, 1.8726879032248347, 1.9053027056901166, 1.922751470710718, 1.9444946723542393, 1.9510718365530806, 1.9510718365530806, 1.9510718365530806, 1.9793922023954422, 2.0775076283202116, 2.1275711958060946, 2.145019960826696, 2.2191094575320225, 2.2234038941549414, 2.3715828875655944, 2.4588267126686025, 2.5154674443533267, 2.5895569410586523, 2.6810952027845802, 2.772633464510508], \"xaxis\": \"x\", \"y\": [2.8062038782640505e-16, 2.753536197048061e-16, 2.635238426171062e-16, 2.529903063739078e-16, 2.3589376116460895e-16, 2.2604924771545737e-16, 2.2207872043836033e-16, 2.1879721595530978e-16, 2.1353044783371065e-16, 2.1353044783371065e-16, 2.0696743886760975e-16, 2.0696743886760975e-16, 2.0170067074601075e-16, 1.9315239814136125e-16, 1.878856300197621e-16, 1.7735209377656396e-16, 1.6552231668886396e-16, 1.6552231668886396e-16, 1.6353705305031531e-16, 1.602555485672648e-16, 1.5567780323971255e-16, 1.5498878044566566e-16, 1.5498878044566566e-16, 1.5369253960116378e-16, 1.5170727596261543e-16, 1.4842577147956479e-16, 1.4644050784101616e-16, 1.4117373971941702e-16, 1.3789223523636679e-16, 1.3392170795926952e-16, 1.2934396263171714e-16, 1.2606245814866664e-16, 1.18810426388519e-16, 8.461733596992082e-17, 8.461733596992082e-17, 7.805432700381994e-17, 7.60690633652713e-17, 7.209853608817406e-17, 5.828349536192538e-17, 2.737190942637786e-17, -1.5369453596869862e-17, -1.9339980873967103e-17, -2.9184494323118484e-17, -3.7732766927768157e-17, -4.956254401546816e-17, -5.154780765401663e-17, -5.4829312137067305e-17, -5.681457577561563e-17, -6.208134389721478e-17, -6.53628483802653e-17, -6.53628483802653e-17, -7.589638462346345e-17, -7.589638462346345e-17, -8.245939358956445e-17, -8.245939358956445e-17, -8.444465722811297e-17, -8.971142534971207e-17, -9.299292983276245e-17, -9.428917067726445e-17, -1.0154120243741197e-16, -1.0154120243741197e-16, -1.0154120243741197e-16, -1.0154120243741197e-16, -1.048227069204625e-16, -1.0680797055901112e-16, -1.1535624316366064e-16, -1.166524840081625e-16, -1.2718602025136065e-16, -1.3046752473441117e-16, -1.66645878791558e-16, -1.857276876394056e-16, -1.8900919212245614e-16, -1.9954272836565423e-16, -2.0809100097030376e-16, -2.1335776909190276e-16, -2.1534303273045143e-16, -2.1663927357495328e-16, -2.1663927357495328e-16, -2.1663927357495328e-16, -2.199207780580038e-16, -2.199207780580038e-16, -2.2190604169655238e-16, -2.357210824228011e-16, -2.3900258690585143e-16, -2.409878505444001e-16, -2.409878505444001e-16, -2.4755085951050095e-16, -2.4755085951050095e-16, -2.5281762763209995e-16, -2.560991321151505e-16, -2.600696593922477e-16, -2.613659002367496e-16, -2.613659002367496e-16, -2.6861793199689724e-16, -2.784624454460487e-16, -2.837292135676477e-16, -2.9029222253374877e-16, -2.9227748617229744e-16, -2.9227748617229744e-16, -2.9227748617229744e-16, -3.0082575877694677e-16, -3.304411038679928e-16, -3.4555238543874316e-16, -3.5081915356034216e-16, -3.731824668912405e-16, -3.7447870773574217e-16, -4.1920533439753885e-16, -4.455391750055341e-16, -4.626357202148331e-16, -4.849990335457311e-16, -5.126291149982285e-16, -5.402591964507257e-16], \"yaxis\": \"y\"}, {\"hovertemplate\": \"split=test<br>prediction=%{x}<br>residual=%{y}<extra></extra>\", \"legendgroup\": \"test\", \"marker\": {\"color\": \"#EF553B\", \"symbol\": \"circle\"}, \"mode\": \"markers\", \"name\": \"test\", \"orientation\": \"v\", \"showlegend\": true, \"type\": \"scatter\", \"x\": [0.40606400656299413, 0.19037268064585744, 0.4735763390694794, 0.7416139600484211, 0.01816775801576198, 0.257885013152342, 0.40606400656299413, 0.5084738691106827, 0.4103584431859135, 0.46928190244656, 0.36029487570003016, 0.29707697981646475, 0.44096153660419746, 1.5348552221634864, 1.7920212423206678, 0.8746269160143931, 1.6961885439718205, 1.4498941246363992, 1.0336775102468054, 1.4956632554993632, 1.4956632554993632, 2.0142897324366453, 1.3758046279310736, 1.4673428896570015, 0.8854985168361538, 1.802892843142428, 1.1426645369933348, 0.9095244460555965, 1.5239836213417257, 1.4149965945951963, 2.338968085100312, 1.2733947653833855, 1.1252157719727334, 1.5697527522046897, 1.4041249937734357, 1.7179317456153418, 1.5872015172252907, 1.5806243530264503], \"xaxis\": \"x\", \"y\": [0.20606400656299412, -0.009627319354142572, 0.07357633906947936, 0.4416139600484211, -0.18183224198423803, 0.05788501315234201, 0.0060640065629941065, 0.3084738691106827, 0.2103584431859135, 0.36928190244656, 0.06029487570003017, -0.10292302018353527, 0.14096153660419747, 0.034855222163486355, 0.29202124232066784, -0.5253730839856068, 0.6961885439718205, 0.049894124636399306, -0.46632248975319457, 0.19566325549936314, 0.29566325549936323, 0.6142897324366454, -0.12419537206892639, -0.13265711034299854, -0.6145014831638462, 0.30289284314242804, -0.057335463006665144, -0.09047555394440354, 0.22398362134172567, -1.0850034054048037, 0.538968085100312, -1.1266052346166144, -0.8747842280272666, -0.23024724779531036, -0.39587500622656435, -0.4820682543846584, 0.18720151722529077, -0.21937564697354972], \"yaxis\": \"y\"}, {\"alignmentgroup\": \"True\", \"hovertemplate\": \"split=test<br>residual=%{y}<extra></extra>\", \"legendgroup\": \"test\", \"marker\": {\"color\": \"#EF553B\", \"symbol\": \"circle\"}, \"name\": \"test\", \"offsetgroup\": \"test\", \"scalegroup\": \"y\", \"showlegend\": false, \"type\": \"violin\", \"xaxis\": \"x2\", \"y\": [0.20606400656299412, -0.009627319354142572, 0.07357633906947936, 0.4416139600484211, -0.18183224198423803, 0.05788501315234201, 0.0060640065629941065, 0.3084738691106827, 0.2103584431859135, 0.36928190244656, 0.06029487570003017, -0.10292302018353527, 0.14096153660419747, 0.034855222163486355, 0.29202124232066784, -0.5253730839856068, 0.6961885439718205, 0.049894124636399306, -0.46632248975319457, 0.19566325549936314, 0.29566325549936323, 0.6142897324366454, -0.12419537206892639, -0.13265711034299854, -0.6145014831638462, 0.30289284314242804, -0.057335463006665144, -0.09047555394440354, 0.22398362134172567, -1.0850034054048037, 0.538968085100312, -1.1266052346166144, -0.8747842280272666, -0.23024724779531036, -0.39587500622656435, -0.4820682543846584, 0.18720151722529077, -0.21937564697354972], \"yaxis\": \"y2\"}, {\"hovertemplate\": \"<b>OLS trendline</b><br>residual = 0.051022 * prediction + -0.0928883<br>R<sup>2</sup>=0.005124<br><br>split=test<br>prediction=%{x}<br>residual=%{y} <b>(trend)</b><extra></extra>\", \"legendgroup\": \"test\", \"marker\": {\"color\": \"#EF553B\", \"symbol\": \"circle\"}, \"mode\": \"lines\", \"name\": \"test\", \"showlegend\": false, \"type\": \"scatter\", \"x\": [0.01816775801576198, 0.19037268064585744, 0.257885013152342, 0.29707697981646475, 0.36029487570003016, 0.40606400656299413, 0.40606400656299413, 0.4103584431859135, 0.44096153660419746, 0.46928190244656, 0.4735763390694794, 0.5084738691106827, 0.7416139600484211, 0.8746269160143931, 0.8854985168361538, 0.9095244460555965, 1.0336775102468054, 1.1252157719727334, 1.1426645369933348, 1.2733947653833855, 1.3758046279310736, 1.4041249937734357, 1.4149965945951963, 1.4498941246363992, 1.4673428896570015, 1.4956632554993632, 1.4956632554993632, 1.5239836213417257, 1.5348552221634864, 1.5697527522046897, 1.5806243530264503, 1.5872015172252907, 1.6961885439718205, 1.7179317456153418, 1.7920212423206678, 1.802892843142428, 2.0142897324366453, 2.338968085100312], \"xaxis\": \"x\", \"y\": [-0.09196137547108042, -0.08317513406433152, -0.079730519112128, -0.07773086616924485, -0.07450536200840938, -0.07217012892333144, -0.07217012892333144, -0.07195101813196339, -0.07038958677181632, -0.06894462476249594, -0.0687255139711279, -0.06694497181961279, -0.05504969560285514, -0.04826310713898943, -0.047708416205426624, -0.04648256498747431, -0.040148026016630076, -0.03547755984647422, -0.03458728877071667, -0.027917169657677654, -0.022692012553959015, -0.021247050544638657, -0.02069235961107585, -0.018911817459560762, -0.018021546383803155, -0.016576584374482825, -0.016576584374482825, -0.015131622365162453, -0.014576931431599646, -0.012796389280084516, -0.01224169834652171, -0.011906118204326993, -0.006345380958413568, -0.0052359990912879545, -0.0014558039968896735, -0.0009011130633268805, 0.009884781286305142, 0.02645052367321865], \"yaxis\": \"y\"}],                        {\"legend\": {\"title\": {\"text\": \"split\"}, \"tracegroupgap\": 0}, \"margin\": {\"t\": 60}, \"template\": {\"data\": {\"bar\": [{\"error_x\": {\"color\": \"#2a3f5f\"}, \"error_y\": {\"color\": \"#2a3f5f\"}, \"marker\": {\"line\": {\"color\": \"#E5ECF6\", \"width\": 0.5}}, \"type\": \"bar\"}], \"barpolar\": [{\"marker\": {\"line\": {\"color\": \"#E5ECF6\", \"width\": 0.5}}, \"type\": \"barpolar\"}], \"carpet\": [{\"aaxis\": {\"endlinecolor\": \"#2a3f5f\", \"gridcolor\": \"white\", \"linecolor\": \"white\", \"minorgridcolor\": \"white\", \"startlinecolor\": \"#2a3f5f\"}, \"baxis\": {\"endlinecolor\": \"#2a3f5f\", \"gridcolor\": \"white\", \"linecolor\": \"white\", \"minorgridcolor\": \"white\", \"startlinecolor\": \"#2a3f5f\"}, \"type\": \"carpet\"}], \"choropleth\": [{\"colorbar\": {\"outlinewidth\": 0, \"ticks\": \"\"}, \"type\": \"choropleth\"}], \"contour\": [{\"colorbar\": {\"outlinewidth\": 0, \"ticks\": \"\"}, \"colorscale\": [[0.0, \"#0d0887\"], [0.1111111111111111, \"#46039f\"], [0.2222222222222222, \"#7201a8\"], [0.3333333333333333, \"#9c179e\"], [0.4444444444444444, \"#bd3786\"], [0.5555555555555556, \"#d8576b\"], [0.6666666666666666, \"#ed7953\"], [0.7777777777777778, \"#fb9f3a\"], [0.8888888888888888, \"#fdca26\"], [1.0, \"#f0f921\"]], \"type\": \"contour\"}], \"contourcarpet\": [{\"colorbar\": {\"outlinewidth\": 0, \"ticks\": \"\"}, \"type\": \"contourcarpet\"}], \"heatmap\": [{\"colorbar\": {\"outlinewidth\": 0, \"ticks\": \"\"}, \"colorscale\": [[0.0, \"#0d0887\"], [0.1111111111111111, \"#46039f\"], [0.2222222222222222, \"#7201a8\"], [0.3333333333333333, \"#9c179e\"], [0.4444444444444444, \"#bd3786\"], [0.5555555555555556, \"#d8576b\"], [0.6666666666666666, \"#ed7953\"], [0.7777777777777778, \"#fb9f3a\"], [0.8888888888888888, \"#fdca26\"], [1.0, \"#f0f921\"]], \"type\": \"heatmap\"}], \"heatmapgl\": [{\"colorbar\": {\"outlinewidth\": 0, \"ticks\": \"\"}, \"colorscale\": [[0.0, \"#0d0887\"], [0.1111111111111111, \"#46039f\"], [0.2222222222222222, \"#7201a8\"], [0.3333333333333333, \"#9c179e\"], [0.4444444444444444, \"#bd3786\"], [0.5555555555555556, \"#d8576b\"], [0.6666666666666666, \"#ed7953\"], [0.7777777777777778, \"#fb9f3a\"], [0.8888888888888888, \"#fdca26\"], [1.0, \"#f0f921\"]], \"type\": \"heatmapgl\"}], \"histogram\": [{\"marker\": {\"colorbar\": {\"outlinewidth\": 0, \"ticks\": \"\"}}, \"type\": \"histogram\"}], \"histogram2d\": [{\"colorbar\": {\"outlinewidth\": 0, \"ticks\": \"\"}, \"colorscale\": [[0.0, \"#0d0887\"], [0.1111111111111111, \"#46039f\"], [0.2222222222222222, \"#7201a8\"], [0.3333333333333333, \"#9c179e\"], [0.4444444444444444, \"#bd3786\"], [0.5555555555555556, \"#d8576b\"], [0.6666666666666666, \"#ed7953\"], [0.7777777777777778, \"#fb9f3a\"], [0.8888888888888888, \"#fdca26\"], [1.0, \"#f0f921\"]], \"type\": \"histogram2d\"}], \"histogram2dcontour\": [{\"colorbar\": {\"outlinewidth\": 0, \"ticks\": \"\"}, \"colorscale\": [[0.0, \"#0d0887\"], [0.1111111111111111, \"#46039f\"], [0.2222222222222222, \"#7201a8\"], [0.3333333333333333, \"#9c179e\"], [0.4444444444444444, \"#bd3786\"], [0.5555555555555556, \"#d8576b\"], [0.6666666666666666, \"#ed7953\"], [0.7777777777777778, \"#fb9f3a\"], [0.8888888888888888, \"#fdca26\"], [1.0, \"#f0f921\"]], \"type\": \"histogram2dcontour\"}], \"mesh3d\": [{\"colorbar\": {\"outlinewidth\": 0, \"ticks\": \"\"}, \"type\": \"mesh3d\"}], \"parcoords\": [{\"line\": {\"colorbar\": {\"outlinewidth\": 0, \"ticks\": \"\"}}, \"type\": \"parcoords\"}], \"pie\": [{\"automargin\": true, \"type\": \"pie\"}], \"scatter\": [{\"marker\": {\"colorbar\": {\"outlinewidth\": 0, \"ticks\": \"\"}}, \"type\": \"scatter\"}], \"scatter3d\": [{\"line\": {\"colorbar\": {\"outlinewidth\": 0, \"ticks\": \"\"}}, \"marker\": {\"colorbar\": {\"outlinewidth\": 0, \"ticks\": \"\"}}, \"type\": \"scatter3d\"}], \"scattercarpet\": [{\"marker\": {\"colorbar\": {\"outlinewidth\": 0, \"ticks\": \"\"}}, \"type\": \"scattercarpet\"}], \"scattergeo\": [{\"marker\": {\"colorbar\": {\"outlinewidth\": 0, \"ticks\": \"\"}}, \"type\": \"scattergeo\"}], \"scattergl\": [{\"marker\": {\"colorbar\": {\"outlinewidth\": 0, \"ticks\": \"\"}}, \"type\": \"scattergl\"}], \"scattermapbox\": [{\"marker\": {\"colorbar\": {\"outlinewidth\": 0, \"ticks\": \"\"}}, \"type\": \"scattermapbox\"}], \"scatterpolar\": [{\"marker\": {\"colorbar\": {\"outlinewidth\": 0, \"ticks\": \"\"}}, \"type\": \"scatterpolar\"}], \"scatterpolargl\": [{\"marker\": {\"colorbar\": {\"outlinewidth\": 0, \"ticks\": \"\"}}, \"type\": \"scatterpolargl\"}], \"scatterternary\": [{\"marker\": {\"colorbar\": {\"outlinewidth\": 0, \"ticks\": \"\"}}, \"type\": \"scatterternary\"}], \"surface\": [{\"colorbar\": {\"outlinewidth\": 0, \"ticks\": \"\"}, \"colorscale\": [[0.0, \"#0d0887\"], [0.1111111111111111, \"#46039f\"], [0.2222222222222222, \"#7201a8\"], [0.3333333333333333, \"#9c179e\"], [0.4444444444444444, \"#bd3786\"], [0.5555555555555556, \"#d8576b\"], [0.6666666666666666, \"#ed7953\"], [0.7777777777777778, \"#fb9f3a\"], [0.8888888888888888, \"#fdca26\"], [1.0, \"#f0f921\"]], \"type\": \"surface\"}], \"table\": [{\"cells\": {\"fill\": {\"color\": \"#EBF0F8\"}, \"line\": {\"color\": \"white\"}}, \"header\": {\"fill\": {\"color\": \"#C8D4E3\"}, \"line\": {\"color\": \"white\"}}, \"type\": \"table\"}]}, \"layout\": {\"annotationdefaults\": {\"arrowcolor\": \"#2a3f5f\", \"arrowhead\": 0, \"arrowwidth\": 1}, \"coloraxis\": {\"colorbar\": {\"outlinewidth\": 0, \"ticks\": \"\"}}, \"colorscale\": {\"diverging\": [[0, \"#8e0152\"], [0.1, \"#c51b7d\"], [0.2, \"#de77ae\"], [0.3, \"#f1b6da\"], [0.4, \"#fde0ef\"], [0.5, \"#f7f7f7\"], [0.6, \"#e6f5d0\"], [0.7, \"#b8e186\"], [0.8, \"#7fbc41\"], [0.9, \"#4d9221\"], [1, \"#276419\"]], \"sequential\": [[0.0, \"#0d0887\"], [0.1111111111111111, \"#46039f\"], [0.2222222222222222, \"#7201a8\"], [0.3333333333333333, \"#9c179e\"], [0.4444444444444444, \"#bd3786\"], [0.5555555555555556, \"#d8576b\"], [0.6666666666666666, \"#ed7953\"], [0.7777777777777778, \"#fb9f3a\"], [0.8888888888888888, \"#fdca26\"], [1.0, \"#f0f921\"]], \"sequentialminus\": [[0.0, \"#0d0887\"], [0.1111111111111111, \"#46039f\"], [0.2222222222222222, \"#7201a8\"], [0.3333333333333333, \"#9c179e\"], [0.4444444444444444, \"#bd3786\"], [0.5555555555555556, \"#d8576b\"], [0.6666666666666666, \"#ed7953\"], [0.7777777777777778, \"#fb9f3a\"], [0.8888888888888888, \"#fdca26\"], [1.0, \"#f0f921\"]]}, \"colorway\": [\"#636efa\", \"#EF553B\", \"#00cc96\", \"#ab63fa\", \"#FFA15A\", \"#19d3f3\", \"#FF6692\", \"#B6E880\", \"#FF97FF\", \"#FECB52\"], \"font\": {\"color\": \"#2a3f5f\"}, \"geo\": {\"bgcolor\": \"white\", \"lakecolor\": \"white\", \"landcolor\": \"#E5ECF6\", \"showlakes\": true, \"showland\": true, \"subunitcolor\": \"white\"}, \"hoverlabel\": {\"align\": \"left\"}, \"hovermode\": \"closest\", \"mapbox\": {\"style\": \"light\"}, \"paper_bgcolor\": \"white\", \"plot_bgcolor\": \"#E5ECF6\", \"polar\": {\"angularaxis\": {\"gridcolor\": \"white\", \"linecolor\": \"white\", \"ticks\": \"\"}, \"bgcolor\": \"#E5ECF6\", \"radialaxis\": {\"gridcolor\": \"white\", \"linecolor\": \"white\", \"ticks\": \"\"}}, \"scene\": {\"xaxis\": {\"backgroundcolor\": \"#E5ECF6\", \"gridcolor\": \"white\", \"gridwidth\": 2, \"linecolor\": \"white\", \"showbackground\": true, \"ticks\": \"\", \"zerolinecolor\": \"white\"}, \"yaxis\": {\"backgroundcolor\": \"#E5ECF6\", \"gridcolor\": \"white\", \"gridwidth\": 2, \"linecolor\": \"white\", \"showbackground\": true, \"ticks\": \"\", \"zerolinecolor\": \"white\"}, \"zaxis\": {\"backgroundcolor\": \"#E5ECF6\", \"gridcolor\": \"white\", \"gridwidth\": 2, \"linecolor\": \"white\", \"showbackground\": true, \"ticks\": \"\", \"zerolinecolor\": \"white\"}}, \"shapedefaults\": {\"line\": {\"color\": \"#2a3f5f\"}}, \"ternary\": {\"aaxis\": {\"gridcolor\": \"white\", \"linecolor\": \"white\", \"ticks\": \"\"}, \"baxis\": {\"gridcolor\": \"white\", \"linecolor\": \"white\", \"ticks\": \"\"}, \"bgcolor\": \"#E5ECF6\", \"caxis\": {\"gridcolor\": \"white\", \"linecolor\": \"white\", \"ticks\": \"\"}}, \"title\": {\"x\": 0.05}, \"xaxis\": {\"automargin\": true, \"gridcolor\": \"white\", \"linecolor\": \"white\", \"ticks\": \"\", \"title\": {\"standoff\": 15}, \"zerolinecolor\": \"white\", \"zerolinewidth\": 2}, \"yaxis\": {\"automargin\": true, \"gridcolor\": \"white\", \"linecolor\": \"white\", \"ticks\": \"\", \"title\": {\"standoff\": 15}, \"zerolinecolor\": \"white\", \"zerolinewidth\": 2}}}, \"xaxis\": {\"anchor\": \"y\", \"domain\": [0.0, 0.7363], \"title\": {\"text\": \"prediction\"}}, \"xaxis2\": {\"anchor\": \"y2\", \"domain\": [0.7413, 1.0], \"matches\": \"x2\", \"showgrid\": false, \"showline\": false, \"showticklabels\": false, \"ticks\": \"\"}, \"yaxis\": {\"anchor\": \"x\", \"domain\": [0.0, 1.0], \"title\": {\"text\": \"residual\"}}, \"yaxis2\": {\"anchor\": \"x2\", \"domain\": [0.0, 1.0], \"matches\": \"y\", \"showgrid\": true, \"showticklabels\": false}},                        {\"responsive\": true}                    ).then(function(){\n",
       "                            \n",
       "var gd = document.getElementById('10c9a7d4-736c-47d5-8ddb-4c045233b16d');\n",
       "var x = new MutationObserver(function (mutations, observer) {{\n",
       "        var display = window.getComputedStyle(gd).display;\n",
       "        if (!display || display === 'none') {{\n",
       "            console.log([gd, 'removed!']);\n",
       "            Plotly.purge(gd);\n",
       "            observer.disconnect();\n",
       "        }}\n",
       "}});\n",
       "\n",
       "// Listen for the removal of the full notebook cells\n",
       "var notebookContainer = gd.closest('#notebook-container');\n",
       "if (notebookContainer) {{\n",
       "    x.observe(notebookContainer, {childList: true});\n",
       "}}\n",
       "\n",
       "// Listen for the clearing of the current output cell\n",
       "var outputEl = gd.closest('.output');\n",
       "if (outputEl) {{\n",
       "    x.observe(outputEl, {childList: true});\n",
       "}}\n",
       "\n",
       "                        })                };                });            </script>        </div>"
      ]
     },
     "metadata": {},
     "output_type": "display_data"
    }
   ],
   "source": [
    "df = px.data.iris()\n",
    "\n",
    "# Split data into training and test splits\n",
    "train_idx, test_idx = train_test_split(df.index, test_size=.25, random_state=0)\n",
    "df['split'] = 'train'\n",
    "df.loc[test_idx, 'split'] = 'test'\n",
    "\n",
    "X = df[['sepal_width', 'sepal_length']]\n",
    "X_train = df.loc[train_idx, ['sepal_width', 'sepal_length']]\n",
    "y_train = df.loc[train_idx, 'petal_width']\n",
    "\n",
    "# Condition the model on sepal width and length, predict the petal width\n",
    "model = LinearRegression()\n",
    "model.fit(X_train, y_train)\n",
    "df['prediction'] = model.predict(X)\n",
    "df['residual'] = df['prediction'] - df['petal_width']\n",
    "\n",
    "fig = px.scatter(\n",
    "    df, x='prediction', y='residual',\n",
    "    marginal_y='violin',\n",
    "    color='split', trendline='ols'\n",
    ")\n",
    "fig.show()"
   ]
  },
  {
   "cell_type": "code",
   "execution_count": null,
   "metadata": {},
   "outputs": [],
   "source": []
  }
 ],
 "metadata": {
  "kernelspec": {
   "display_name": "Python 3",
   "language": "python",
   "name": "python3"
  },
  "language_info": {
   "codemirror_mode": {
    "name": "ipython",
    "version": 3
   },
   "file_extension": ".py",
   "mimetype": "text/x-python",
   "name": "python",
   "nbconvert_exporter": "python",
   "pygments_lexer": "ipython3",
   "version": "3.8.3"
  }
 },
 "nbformat": 4,
 "nbformat_minor": 4
}
